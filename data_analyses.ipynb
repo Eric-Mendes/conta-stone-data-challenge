{
  "nbformat": 4,
  "nbformat_minor": 0,
  "metadata": {
    "colab": {
      "name": "data-analyses.ipynb",
      "provenance": [],
      "authorship_tag": "ABX9TyN8L7+cARECPDaMjTDgLpgW",
      "include_colab_link": true
    },
    "kernelspec": {
      "name": "python3",
      "display_name": "Python 3"
    }
  },
  "cells": [
    {
      "cell_type": "markdown",
      "metadata": {
        "id": "view-in-github",
        "colab_type": "text"
      },
      "source": [
        "<a href=\"https://colab.research.google.com/github/Eric-Mendes/conta-stone-data-challenge/blob/main/data_analyses.ipynb\" target=\"_parent\"><img src=\"https://colab.research.google.com/assets/colab-badge.svg\" alt=\"Open In Colab\"/></a>"
      ]
    },
    {
      "cell_type": "markdown",
      "metadata": {
        "id": "sXKKNqbIqf-x"
      },
      "source": [
        "**Data Intern Challenge**"
      ]
    },
    {
      "cell_type": "code",
      "metadata": {
        "id": "ByAVcRaMrDiX"
      },
      "source": [
        "# Importing the standard libraries for data analysis\n",
        "import pandas as pd\n",
        "import numpy as np\n",
        "from matplotlib import pyplot as plt"
      ],
      "execution_count": 1,
      "outputs": []
    },
    {
      "cell_type": "code",
      "metadata": {
        "id": "6v-nIZQuqWj6"
      },
      "source": [
        "# Creating dataframes for each dataset\n",
        "card_url = \"https://gist.githubusercontent.com/caiotaniguchi/\\\n",
        "8b5ee7dc75c8b6426222942ced90c4c1/raw/39ca0f8b442068aaffed35e26f0ce7f76faf1c63/\\\n",
        "dataset-cards.csv\"\n",
        "\n",
        "customers_url = \"https://gist.githubusercontent.com/caiotaniguchi/\\\n",
        "8b5ee7dc75c8b6426222942ced90c4c1/raw/39ca0f8b442068aaffed35e26f0ce7f76faf1c63/\\\n",
        "dataset-customers.csv\"\n",
        "\n",
        "fraud_url = \"https://gist.githubusercontent.com/caiotaniguchi/\\\n",
        "8b5ee7dc75c8b6426222942ced90c4c1/raw/39ca0f8b442068aaffed35e26f0ce7f76faf1c63\\\n",
        "/dataset-frauds.csv\"\n",
        "\n",
        "transactions_url = \"https://gist.githubusercontent.com/caiotaniguchi/\\\n",
        "8b5ee7dc75c8b6426222942ced90c4c1/raw/39ca0f8b442068aaffed35e26f0ce7f76faf1c63/\\\n",
        "dataset-transactions.csv\"\n",
        "\n",
        "\n",
        "df_card = pd.read_csv(card_url, sep=';')\n",
        "\n",
        "df_customers = pd.read_csv(customers_url, sep=';')\n",
        "\n",
        "df_fraud = pd.read_csv(fraud_url, sep=';')\n",
        "\n",
        "df_transactions = pd.read_csv(transactions_url, sep=';')"
      ],
      "execution_count": 2,
      "outputs": []
    },
    {
      "cell_type": "markdown",
      "metadata": {
        "id": "TqiIrEpB1Pfh"
      },
      "source": [
        "\n",
        "\n",
        "1.   *Extract and analyze the data in order to answer the following questions. Provide a description and/or comments for each solution.*\n",
        "\n"
      ]
    },
    {
      "cell_type": "code",
      "metadata": {
        "colab": {
          "base_uri": "https://localhost:8080/"
        },
        "id": "EcU_VrIx1kih",
        "outputId": "b5de850d-2657-4a20-c52c-bb392bb17d95"
      },
      "source": [
        "# AVERAGE AGE OF THE CUSTOMERS IN THE DATABASE\n",
        "\n",
        "# getting the column age and turning it into a numpy array\n",
        "age = np.array(df_customers['age']) \n",
        "\n",
        "# getting the average age\n",
        "avg_age = age.mean()\n",
        "# printing the average age rounded to two decimal places\n",
        "print(\"The average age of the customers in the database is {} years old.\"\\\n",
        "      .format(round(avg_age, 2)))"
      ],
      "execution_count": 3,
      "outputs": [
        {
          "output_type": "stream",
          "text": [
            "The average age of the customers in the database is 35.06 years old.\n"
          ],
          "name": "stdout"
        }
      ]
    },
    {
      "cell_type": "markdown",
      "metadata": {
        "id": "IkelZEYwBJIC"
      },
      "source": [
        "*How is the card_family ranked based on the credit_limit given to each card?*"
      ]
    },
    {
      "cell_type": "markdown",
      "metadata": {
        "id": "B93CGTNhVNEq"
      },
      "source": [
        "Checking the quantity of each card family in the dataset so I don't draw any biased conclusion about the average credit limit for each family."
      ]
    },
    {
      "cell_type": "code",
      "metadata": {
        "id": "wZDAOAz__hEa"
      },
      "source": [
        "# getting all the card families in the dataset\n",
        "card_families = np.unique(df_card['card_family'])\n",
        "\n",
        "# getting the quantity of each card family in the dataset\n",
        "family_quantity = [(family, df_card['card_family'].loc\\\n",
        "                    [df_card.card_family == family]\\\n",
        "                   .count()) for family in card_families]\n",
        "\n",
        "# sorting in place by quantity (descending order)\n",
        "family_quantity.sort(key=lambda qty: qty[1], reverse=True)\n",
        "\n",
        "# unzipping family_quantity (separating family from quantity)\n",
        "family_quantity = zip(*family_quantity)\n",
        "family_quantity = list(family_quantity)"
      ],
      "execution_count": 11,
      "outputs": []
    },
    {
      "cell_type": "code",
      "metadata": {
        "id": "9wDX5dwSThET",
        "outputId": "1fd1fac6-6b8e-4d08-8433-88d078420afd",
        "colab": {
          "base_uri": "https://localhost:8080/",
          "height": 210
        }
      },
      "source": [
        "# Plotting a pie plot\n",
        "\n",
        "fig, ax = plt.subplots(figsize=(6, 3), subplot_kw=dict(aspect=\"equal\"))\n",
        "\n",
        "data = family_quantity[1]\n",
        "card_families = family_quantity[0]\n",
        "\n",
        "\n",
        "def func(pct, allvals):\n",
        "    absolute = int(pct/100.*np.sum(allvals))\n",
        "    return \"{:.1f}%\\n({:d})\".format(pct, absolute)\n",
        "\n",
        "\n",
        "wedges, texts, autotexts = ax.pie(data, autopct=lambda pct: func(pct, data),\n",
        "                                  textprops=dict(color=\"w\"))\n",
        "\n",
        "ax.legend(wedges, card_families,\n",
        "          title=\"Card family\",\n",
        "          loc=\"center left\",\n",
        "          bbox_to_anchor=(1, 0, 0.5, 1))\n",
        "\n",
        "plt.setp(autotexts, size=8, weight=\"bold\")\n",
        "\n",
        "ax.set_title(\"Quantity of each card family in the dataset\")\n",
        "\n",
        "plt.show()\n"
      ],
      "execution_count": 12,
      "outputs": [
        {
          "output_type": "display_data",
          "data": {
            "image/png": "[encoded data removed]",
            "text/plain": [
              "<Figure size 432x216 with 1 Axes>"
            ]
          },
          "metadata": {
            "tags": []
          }
        }
      ]
    },
    {
      "cell_type": "markdown",
      "metadata": {
        "id": "lBRyynPeXUB_"
      },
      "source": [
        "Plotting the average credit limit for each card family in the dataset."
      ]
    },
    {
      "cell_type": "code",
      "metadata": {
        "colab": {
          "base_uri": "https://localhost:8080/",
          "height": 281
        },
        "id": "R8IXa6dQ4jef",
        "outputId": "e6366487-c3e4-476b-e4a3-a84a5c415573"
      },
      "source": [
        "# getting the average credit limit for each card family in the dataset\n",
        "avg_credit_limit = [(family, np.array(df_card['credit_limit'].loc\\\n",
        "                                      [df_card.card_family == family]).mean())\\\n",
        "                     for family in card_families]\n",
        "\n",
        "# sorting in place by credit_limit (descending order)\n",
        "avg_credit_limit.sort(key=lambda family_credit_limit: family_credit_limit[1], \\\n",
        "                      reverse=True)\n",
        "\n",
        "# unzipping avg_credit_limit\n",
        "avg_credit_limit = zip(*avg_credit_limit)\n",
        "avg_credit_limit = list(avg_credit_limit)\n",
        "\n",
        "# plotting the average credit limit\n",
        "plt.bar(avg_credit_limit[0], avg_credit_limit[1])\n",
        "plt.title(\"Average credit limit by card family\")\n",
        "plt.ylabel(\"Credit limit\")\n",
        "plt.show()"
      ],
      "execution_count": 6,
      "outputs": [
        {
          "output_type": "display_data",
          "data": {
            "image/png": "[encoded data removed]",
            "text/plain": [
              "<Figure size 432x288 with 1 Axes>"
            ]
          },
          "metadata": {
            "tags": [],
            "needs_background": "light"
          }
        }
      ]
    },
    {
      "cell_type": "code",
      "metadata": {
        "id": "l78sYDj3YoZd"
      },
      "source": [
        "# TODO"
      ],
      "execution_count": 16,
      "outputs": []
    },
    {
      "cell_type": "markdown",
      "metadata": {
        "id": "uouxHNxCYN2s"
      },
      "source": [
        "*For the transactions flagged as fraud, what are the ids of the transactions with the highest value?*"
      ]
    },
    {
      "cell_type": "code",
      "metadata": {
        "id": "48qzn3CbYRH0",
        "outputId": "9c708b1d-96cc-41b0-b5e2-77f3ad504202",
        "colab": {
          "base_uri": "https://localhost:8080/",
          "height": 265
        }
      },
      "source": [
        "# getting the transactions flagged as fraud\n",
        "frauds = np.array(df_fraud['transaction_id'].loc[df_fraud['fraud_flag'] == True])\n",
        "df_fraud_transactions = df_transactions.loc[df_transactions['id'].isin(frauds)]\n",
        "df_fraud_transactions = df_fraud_transactions.sort_values(by='value', \\\n",
        "                                                          ascending=False)\n",
        "\n",
        "x = list(df_fraud_transactions['id'])[:10]\n",
        "y = list(df_fraud_transactions['value'])[:10]\n",
        "\n",
        "plt.bar(x, y)\n",
        "plt.show()"
      ],
      "execution_count": 20,
      "outputs": [
        {
          "output_type": "display_data",
          "data": {
            "image/png": "[encoded data removed]",
            "text/plain": [
              "<Figure size 432x288 with 1 Axes>"
            ]
          },
          "metadata": {
            "tags": [],
            "needs_background": "light"
          }
        }
      ]
    }
  ]
}