{
  "nbformat": 4,
  "nbformat_minor": 0,
  "metadata": {
    "colab": {
      "name": "data-analyses.ipynb",
      "provenance": [],
      "authorship_tag": "ABX9TyM9KjzKOMYqyTny4pGybApB",
      "include_colab_link": true
    },
    "kernelspec": {
      "name": "python3",
      "display_name": "Python 3"
    }
  },
  "cells": [
    {
      "cell_type": "markdown",
      "metadata": {
        "id": "view-in-github",
        "colab_type": "text"
      },
      "source": [
        "<a href=\"https://colab.research.google.com/github/Eric-Mendes/conta-stone-data-challenge/blob/main/data_analyses.ipynb\" target=\"_parent\"><img src=\"https://colab.research.google.com/assets/colab-badge.svg\" alt=\"Open In Colab\"/></a>"
      ]
    },
    {
      "cell_type": "markdown",
      "metadata": {
        "id": "sXKKNqbIqf-x"
      },
      "source": [
        "**Data Intern Challenge**"
      ]
    },
    {
      "cell_type": "code",
      "metadata": {
        "id": "ByAVcRaMrDiX"
      },
      "source": [
        "# Importing the standard libraries for data analysis\n",
        "import pandas as pd\n",
        "import numpy as np\n",
        "from matplotlib import pyplot as plt"
      ],
      "execution_count": 23,
      "outputs": []
    },
    {
      "cell_type": "code",
      "metadata": {
        "id": "6v-nIZQuqWj6"
      },
      "source": [
        "# Creating dataframes for each dataset\n",
        "card_url = \"https://gist.githubusercontent.com/caiotaniguchi/\\\n",
        "8b5ee7dc75c8b6426222942ced90c4c1/raw/39ca0f8b442068aaffed35e26f0ce7f76faf1c63/\\\n",
        "dataset-cards.csv\"\n",
        "\n",
        "customers_url = \"https://gist.githubusercontent.com/caiotaniguchi/\\\n",
        "8b5ee7dc75c8b6426222942ced90c4c1/raw/39ca0f8b442068aaffed35e26f0ce7f76faf1c63/\\\n",
        "dataset-customers.csv\"\n",
        "\n",
        "fraud_url = \"https://gist.githubusercontent.com/caiotaniguchi/\\\n",
        "8b5ee7dc75c8b6426222942ced90c4c1/raw/39ca0f8b442068aaffed35e26f0ce7f76faf1c63\\\n",
        "/dataset-frauds.csv\"\n",
        "\n",
        "transactions_url = \"https://gist.githubusercontent.com/caiotaniguchi/\\\n",
        "8b5ee7dc75c8b6426222942ced90c4c1/raw/39ca0f8b442068aaffed35e26f0ce7f76faf1c63/\\\n",
        "dataset-transactions.csv\"\n",
        "\n",
        "\n",
        "df_card = pd.read_csv(card_url, sep=';')\n",
        "\n",
        "df_customers = pd.read_csv(customers_url, sep=';')\n",
        "\n",
        "df_fraud = pd.read_csv(fraud_url, sep=';')\n",
        "\n",
        "df_transactions = pd.read_csv(transactions_url, sep=';')"
      ],
      "execution_count": 2,
      "outputs": []
    },
    {
      "cell_type": "markdown",
      "metadata": {
        "id": "TqiIrEpB1Pfh"
      },
      "source": [
        "\n",
        "\n",
        "1.   *Extract and analyze the data in order to answer the following questions. Provide a description and/or comments for each solution.*\n",
        "\n"
      ]
    },
    {
      "cell_type": "code",
      "metadata": {
        "colab": {
          "base_uri": "https://localhost:8080/"
        },
        "id": "EcU_VrIx1kih",
        "outputId": "6ef29c70-efb8-4312-e670-2ac2387f510e"
      },
      "source": [
        "# AVERAGE AGE OF THE CUSTOMERS IN THE DATABASE\n",
        "\n",
        "# getting the column age and turning it into a numpy array\n",
        "age = np.array(df_customers['age']) \n",
        "\n",
        "# getting the average age\n",
        "avg_age = age.mean()\n",
        "# printing the average age rounded to two decimal places\n",
        "print(\"The average age of the customers in the database is {} years old.\"\\\n",
        "      .format(round(avg_age, 2)))"
      ],
      "execution_count": 3,
      "outputs": [
        {
          "output_type": "stream",
          "text": [
            "The average age of the customers in the database is 35.06 years old.\n"
          ],
          "name": "stdout"
        }
      ]
    },
    {
      "cell_type": "markdown",
      "metadata": {
        "id": "IkelZEYwBJIC"
      },
      "source": [
        "*How is the card_family ranked based on the credit_limit given to each card?*"
      ]
    },
    {
      "cell_type": "code",
      "metadata": {
        "colab": {
          "base_uri": "https://localhost:8080/",
          "height": 281
        },
        "id": "wZDAOAz__hEa",
        "outputId": "bacf5282-10d6-4a75-ad00-d4ca818b44d3"
      },
      "source": [
        "# getting all the card families in the dataset\n",
        "card_families = np.unique(df_card['card_family'])\n",
        "\n",
        "# getting the quantity of each card family in the dataset\n",
        "family_quantity = [(family, df_card['card_family'].loc\\\n",
        "                    [df_card.card_family == family]\\\n",
        "                   .count()) for family in card_families]\n",
        "\n",
        "# sorting in place by quantity (descending order)\n",
        "family_quantity.sort(key=lambda qty: qty[1], reverse=True)\n",
        "\n",
        "# unzipping family_quantity (separating family from quantity)\n",
        "family_quantity = zip(*family_quantity)\n",
        "family_quantity = list(family_quantity)\n",
        "\n",
        "# plotting the family quantity\n",
        "plt.bar(family_quantity[0], family_quantity[1])\n",
        "plt.title(\"Quantity of card family in the dataset\")\n",
        "plt.ylabel(\"Quantity\")\n",
        "plt.show()"
      ],
      "execution_count": 4,
      "outputs": [
        {
          "output_type": "display_data",
          "data": {
            "image/png": "[encoded data removed]",
            "text/plain": [
              "<Figure size 432x288 with 1 Axes>"
            ]
          },
          "metadata": {
            "tags": [],
            "needs_background": "light"
          }
        }
      ]
    },
    {
      "cell_type": "code",
      "metadata": {
        "colab": {
          "base_uri": "https://localhost:8080/",
          "height": 281
        },
        "id": "R8IXa6dQ4jef",
        "outputId": "247d8852-1ec8-4192-fd3f-a454aac26e33"
      },
      "source": [
        "# getting the average credit limit for each card family in the dataset\n",
        "avg_credit_limit = [(family, np.array(df_card['credit_limit'].loc\\\n",
        "                                      [df_card.card_family == family]).mean())\\\n",
        "                     for family in card_families]\n",
        "\n",
        "# sorting in place by credit_limit (descending order)\n",
        "avg_credit_limit.sort(key=lambda family_credit_limit: family_credit_limit[1], \\\n",
        "                      reverse=True)\n",
        "\n",
        "# unzipping avg_credit_limit\n",
        "avg_credit_limit = zip(*avg_credit_limit)\n",
        "avg_credit_limit = list(avg_credit_limit)\n",
        "\n",
        "# plotting the average credit limit\n",
        "plt.bar(avg_credit_limit[0], avg_credit_limit[1])\n",
        "plt.title(\"Average credit limit by card family\")\n",
        "plt.ylabel(\"Credit limit\")\n",
        "plt.show()"
      ],
      "execution_count": 5,
      "outputs": [
        {
          "output_type": "display_data",
          "data": {
            "image/png": "[encoded data removed]",
            "text/plain": [
              "<Figure size 432x288 with 1 Axes>"
            ]
          },
          "metadata": {
            "tags": [],
            "needs_background": "light"
          }
        }
      ]
    }
  ]
}