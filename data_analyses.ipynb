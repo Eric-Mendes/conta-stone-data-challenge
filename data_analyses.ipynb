{
  "nbformat": 4,
  "nbformat_minor": 0,
  "metadata": {
    "colab": {
      "name": "data-analyses.ipynb",
      "provenance": [],
      "authorship_tag": "ABX9TyN/YsamOCnOZAriZff1kujo",
      "include_colab_link": true
    },
    "kernelspec": {
      "name": "python3",
      "display_name": "Python 3"
    }
  },
  "cells": [
    {
      "cell_type": "markdown",
      "metadata": {
        "id": "view-in-github",
        "colab_type": "text"
      },
      "source": [
        "<a href=\"https://colab.research.google.com/github/Eric-Mendes/conta-stone-data-challenge/blob/main/data_analyses.ipynb\" target=\"_parent\"><img src=\"https://colab.research.google.com/assets/colab-badge.svg\" alt=\"Open In Colab\"/></a>"
      ]
    },
    {
      "cell_type": "markdown",
      "metadata": {
        "id": "dXELahEhKd9P"
      },
      "source": [
        "\n",
        "<img src='https://seeklogo.com/images/S/stone-pagamentos-logo-781DFFF629-seeklogo.com.png'/> \n",
        "\n"
      ]
    },
    {
      "cell_type": "markdown",
      "metadata": {
        "id": "W0yYvzqUJy7K"
      },
      "source": [
        "Este notebook foi criado para responder às perguntas do [Conta Stone's Data Intern Challenge](https://gist.github.com/caiotaniguchi/8b5ee7dc75c8b6426222942ced90c4c1#file-dataset-customers-csv-L2469)."
      ]
    },
    {
      "cell_type": "code",
      "metadata": {
        "id": "ByAVcRaMrDiX"
      },
      "source": [
        "# Import das bibliotecas mais usadas em ciência de dados\n",
        "import pandas as pd\n",
        "import numpy as np\n",
        "from matplotlib import pyplot as plt"
      ],
      "execution_count": 1,
      "outputs": []
    },
    {
      "cell_type": "code",
      "metadata": {
        "id": "6v-nIZQuqWj6"
      },
      "source": [
        "# Criando DataFrames para cada dataset disponibilizado\n",
        "card_url = \"https://gist.githubusercontent.com/caiotaniguchi/\\\n",
        "8b5ee7dc75c8b6426222942ced90c4c1/raw/39ca0f8b442068aaffed35e26f0ce7f76faf1c63/\\\n",
        "dataset-cards.csv\"\n",
        "\n",
        "customers_url = \"https://gist.githubusercontent.com/caiotaniguchi/\\\n",
        "8b5ee7dc75c8b6426222942ced90c4c1/raw/39ca0f8b442068aaffed35e26f0ce7f76faf1c63/\\\n",
        "dataset-customers.csv\"\n",
        "\n",
        "fraud_url = \"https://gist.githubusercontent.com/caiotaniguchi/\\\n",
        "8b5ee7dc75c8b6426222942ced90c4c1/raw/39ca0f8b442068aaffed35e26f0ce7f76faf1c63\\\n",
        "/dataset-frauds.csv\"\n",
        "\n",
        "transactions_url = \"https://gist.githubusercontent.com/caiotaniguchi/\\\n",
        "8b5ee7dc75c8b6426222942ced90c4c1/raw/39ca0f8b442068aaffed35e26f0ce7f76faf1c63/\\\n",
        "dataset-transactions.csv\"\n",
        "\n",
        "\n",
        "df_card = pd.read_csv(card_url, sep=';')\n",
        "\n",
        "df_customers = pd.read_csv(customers_url, sep=';')\n",
        "\n",
        "df_fraud = pd.read_csv(fraud_url, sep=';')\n",
        "\n",
        "df_transactions = pd.read_csv(transactions_url, sep=';')"
      ],
      "execution_count": 2,
      "outputs": []
    },
    {
      "cell_type": "markdown",
      "metadata": {
        "id": "ngEHQ9lyOGrv"
      },
      "source": [
        "\n",
        "\n",
        "---\n",
        "\n"
      ]
    },
    {
      "cell_type": "markdown",
      "metadata": {
        "id": "M9r4ery6Llia"
      },
      "source": [
        "**Questões**"
      ]
    },
    {
      "cell_type": "markdown",
      "metadata": {
        "id": "TqiIrEpB1Pfh"
      },
      "source": [
        "\n",
        "\n",
        "1.   *Extract and analyze the data in order to answer the following questions. Provide a description and/or comments for each solution.*\n",
        "\n"
      ]
    },
    {
      "cell_type": "markdown",
      "metadata": {
        "id": "dQsHAjOAOnTb"
      },
      "source": [
        "- What is the average age of the customers in the database?"
      ]
    },
    {
      "cell_type": "code",
      "metadata": {
        "colab": {
          "base_uri": "https://localhost:8080/"
        },
        "id": "EcU_VrIx1kih",
        "outputId": "b12c80be-45c0-46ba-a6d6-7010bbd5c364"
      },
      "source": [
        "# pegando a coluna age (idade)\n",
        "age = df_customers['age']\n",
        "\n",
        "# pegando a média de idades\n",
        "avg_age = age.mean()\n",
        "\n",
        "# printando a idade média arredondada com duas casas depois da vírgula\n",
        "print(\"The average age of the customers in the database is {} years old. \\\n",
        "(Approximately {} years and {} days old.)\"\\\n",
        "      .format(round(avg_age, 2), round(avg_age), round((avg_age-int(avg_age))*365)))"
      ],
      "execution_count": 3,
      "outputs": [
        {
          "output_type": "stream",
          "text": [
            "The average age of the customers in the database is 35.06 years old. (Approximately 35 years and 22 days old.)\n"
          ],
          "name": "stdout"
        }
      ]
    },
    {
      "cell_type": "markdown",
      "metadata": {
        "id": "pMgSjlWaOJwr"
      },
      "source": [
        "\n",
        "\n",
        "---\n",
        "\n"
      ]
    },
    {
      "cell_type": "markdown",
      "metadata": {
        "id": "IkelZEYwBJIC"
      },
      "source": [
        "- How is the card_family ranked based on the credit_limit given to each card?"
      ]
    },
    {
      "cell_type": "markdown",
      "metadata": {
        "id": "B93CGTNhVNEq"
      },
      "source": [
        "Inicialmente pensei em olhar para a média de limite de crédito, entretanto olhei primeiro para a quantidade de cada card_family no dataset, pois uma pequena quantidade de uma determinada card_family poderia acarretar uma grande média de credit_limit, o que enviesaria a análise."
      ]
    },
    {
      "cell_type": "code",
      "metadata": {
        "id": "wZDAOAz__hEa"
      },
      "source": [
        "# Pegando todas as distintas card_families no dataset\n",
        "card_families = np.unique(df_card['card_family'])\n",
        "\n",
        "# Pegando a quantidade de cada card_family no dataset\n",
        "family_quantity = [(family, df_card['card_family'].loc\\\n",
        "                    [df_card.card_family == family]\\\n",
        "                   .count()) for family in card_families]\n",
        "\n",
        "\"\"\"\n",
        "Ordenando family_quantity na ordem decrescente, baseado na quantidade daquela\n",
        "card_family\n",
        "\"\"\"\n",
        "family_quantity.sort(key=lambda qty: qty[1], reverse=True)\n",
        "\n",
        "# Separando a card_family de sua quantidade\n",
        "family_quantity = zip(*family_quantity)\n",
        "family_quantity = list(family_quantity)"
      ],
      "execution_count": 4,
      "outputs": []
    },
    {
      "cell_type": "code",
      "metadata": {
        "id": "9wDX5dwSThET",
        "colab": {
          "base_uri": "https://localhost:8080/",
          "height": 210
        },
        "outputId": "1b82a5fa-71cd-472b-c7a0-cdd99378bc30"
      },
      "source": [
        "\"\"\"\n",
        "Plotando um gráfico de setores com os resultados \n",
        "sobre as quantidades de card_family\n",
        "\"\"\"\n",
        "\n",
        "fig, ax = plt.subplots(figsize=(6, 3), subplot_kw=dict(aspect=\"equal\"))\n",
        "\n",
        "data = family_quantity[1]\n",
        "card_families = family_quantity[0]\n",
        "\n",
        "\n",
        "def func(pct, allvals):\n",
        "    absolute = int(pct/100.*np.sum(allvals))\n",
        "    return \"{:.1f}%\\n({:d})\".format(pct, absolute)\n",
        "\n",
        "\n",
        "wedges, texts, autotexts = ax.pie(data, autopct=lambda pct: func(pct, data),\n",
        "                                  textprops=dict(color=\"w\"))\n",
        "\n",
        "ax.legend(wedges, card_families,\n",
        "          title=\"Card family\",\n",
        "          loc=\"center left\",\n",
        "          bbox_to_anchor=(1, 0, 0.5, 1))\n",
        "\n",
        "plt.setp(autotexts, size=8, weight=\"bold\")\n",
        "\n",
        "ax.set_title(\"Quantity of each card family in the dataset\")\n",
        "\n",
        "plt.show()"
      ],
      "execution_count": 5,
      "outputs": [
        {
          "output_type": "display_data",
          "data": {
            "image/png": "[encoded data removed]",
            "text/plain": [
              "<Figure size 432x216 with 1 Axes>"
            ]
          },
          "metadata": {
            "tags": []
          }
        }
      ]
    },
    {
      "cell_type": "markdown",
      "metadata": {
        "id": "lBRyynPeXUB_"
      },
      "source": [
        "Plotando um gráfico de barras para visualizar a média de limite de crédito (credit_limit) para cada card_family"
      ]
    },
    {
      "cell_type": "code",
      "metadata": {
        "colab": {
          "base_uri": "https://localhost:8080/",
          "height": 281
        },
        "id": "R8IXa6dQ4jef",
        "outputId": "f99a793e-cebb-459b-a702-3d3fc75adbf4"
      },
      "source": [
        "# Pegando a média de credit_limit para cada card_family\n",
        "avg_credit_limit = [(family, np.array(df_card['credit_limit'].loc\\\n",
        "                                      [df_card.card_family == family]).mean())\\\n",
        "                     for family in card_families]\n",
        "\n",
        "# Ordenando avg_credit_limit em ordem descrescente pela média daquela card_family\n",
        "avg_credit_limit.sort(key=lambda family_credit_limit: family_credit_limit[1], \\\n",
        "                      reverse=True)\n",
        "\n",
        "# Separando a card_family de sua média\n",
        "avg_credit_limit = zip(*avg_credit_limit)\n",
        "avg_credit_limit = list(avg_credit_limit)\n",
        "\n",
        "# Plotando o gráfico\n",
        "plt.bar(avg_credit_limit[0], avg_credit_limit[1], color=['tab:blue', 'tab:green', 'tab:orange'])\n",
        "plt.title(\"Average credit limit by card family\")\n",
        "plt.ylabel(\"Credit limit\")\n",
        "plt.show()"
      ],
      "execution_count": 6,
      "outputs": [
        {
          "output_type": "display_data",
          "data": {
            "image/png": "[encoded data removed]",
            "text/plain": [
              "<Figure size 432x288 with 1 Axes>"
            ]
          },
          "metadata": {
            "tags": [],
            "needs_background": "light"
          }
        }
      ]
    },
    {
      "cell_type": "markdown",
      "metadata": {
        "id": "WDQvk9ZMT5s2"
      },
      "source": [
        "Como vimos, a quantidade de cada card_family é bastante diferente. Portanto o gráfico de média acima pode não ser um bom indicador sobre a relação entre card_family e credit_limit."
      ]
    },
    {
      "cell_type": "markdown",
      "metadata": {
        "id": "Te_6Y3jkYq1_"
      },
      "source": [
        "*Como resolver isto?*\n",
        "\n",
        "Sugestões:\n",
        "- Balancear os dados (fazer com que a quantidade das 3 card_family seja a mesma);\n",
        "- Procurar correlação entre card_family e credit_limit de outra maneira que não seja pela média."
      ]
    },
    {
      "cell_type": "code",
      "metadata": {
        "id": "l78sYDj3YoZd"
      },
      "source": [
        "# TODO"
      ],
      "execution_count": 7,
      "outputs": []
    },
    {
      "cell_type": "markdown",
      "metadata": {
        "id": "jMM4zbY4OMo3"
      },
      "source": [
        "\n",
        "\n",
        "---\n",
        "\n"
      ]
    },
    {
      "cell_type": "markdown",
      "metadata": {
        "id": "uouxHNxCYN2s"
      },
      "source": [
        " - For the transactions flagged as fraud, what are the ids of the transactions with the highest value?"
      ]
    },
    {
      "cell_type": "code",
      "metadata": {
        "id": "48qzn3CbYRH0",
        "colab": {
          "base_uri": "https://localhost:8080/"
        },
        "outputId": "b2da89da-fcfc-4536-a024-d63c1a61e434"
      },
      "source": [
        "# Pegando o id das transações fraudulentas (organizados do maior value para o menor)\n",
        "frauds = np.array(df_fraud['transaction_id'].loc[df_fraud['fraud_flag'] == True])\n",
        "df_fraud_transactions = df_transactions.loc[df_transactions['id'].isin(frauds)]\n",
        "df_fraud_transactions = df_fraud_transactions.sort_values(by='value', ascending=False)\n",
        "for i in range(1, len(list(df_fraud_transactions['id']))+1):\n",
        "  print(\"{}º id: {}\".format(i, list(df_fraud_transactions['id'])[i-1]))"
      ],
      "execution_count": 8,
      "outputs": [
        {
          "output_type": "stream",
          "text": [
            "1º id: CTID20567160\n",
            "2º id: CTID15034243\n",
            "3º id: CTID95884307\n",
            "4º id: CTID54759604\n",
            "5º id: CTID55429304\n",
            "6º id: CTID29469747\n",
            "7º id: CTID76723439\n",
            "8º id: CTID85085771\n",
            "9º id: CTID25962688\n",
            "10º id: CTID60575167\n",
            "11º id: CTID42980186\n",
            "12º id: CTID63762180\n",
            "13º id: CTID31867370\n",
            "14º id: CTID40881434\n",
            "15º id: CTID41847490\n",
            "16º id: CTID81479835\n",
            "17º id: CTID89116114\n",
            "18º id: CTID30763806\n",
            "19º id: CTID32907279\n",
            "20º id: CTID23350804\n",
            "21º id: CTID69782227\n",
            "22º id: CTID96772424\n",
            "23º id: CTID26134025\n",
            "24º id: CTID89260233\n",
            "25º id: CTID12270763\n",
            "26º id: CTID26238474\n",
            "27º id: CTID53972836\n",
            "28º id: CTID91108283\n",
            "29º id: CTID84024131\n",
            "30º id: CTID98722314\n",
            "31º id: CTID89585938\n",
            "32º id: CTID21246201\n",
            "33º id: CTID39550827\n",
            "34º id: CTID49517337\n",
            "35º id: CTID55853142\n",
            "36º id: CTID57707566\n",
            "37º id: CTID42582298\n",
            "38º id: CTID55936882\n",
            "39º id: CTID16281374\n",
            "40º id: CTID57357592\n",
            "41º id: CTID95859840\n",
            "42º id: CTID71795114\n",
            "43º id: CTID22306254\n",
            "44º id: CTID37742156\n",
            "45º id: CTID13865418\n",
            "46º id: CTID88342446\n",
            "47º id: CTID97760025\n",
            "48º id: CTID87470159\n",
            "49º id: CTID70746134\n",
            "50º id: CTID57993591\n",
            "51º id: CTID60614984\n",
            "52º id: CTID38789752\n",
            "53º id: CTID68050021\n",
            "54º id: CTID56680308\n",
            "55º id: CTID84579664\n",
            "56º id: CTID59571587\n",
            "57º id: CTID38931999\n",
            "58º id: CTID94511089\n",
            "59º id: CTID85930060\n",
            "60º id: CTID66191168\n",
            "61º id: CTID70222721\n",
            "62º id: CTID99066676\n",
            "63º id: CTID45385078\n",
            "64º id: CTID12041601\n",
            "65º id: CTID97776833\n",
            "66º id: CTID66265146\n",
            "67º id: CTID51301522\n",
            "68º id: CTID29266043\n",
            "69º id: CTID56303514\n",
            "70º id: CTID21253563\n",
            "71º id: CTID44773525\n",
            "72º id: CTID90938173\n",
            "73º id: CTID68584964\n",
            "74º id: CTID32892929\n",
            "75º id: CTID80787923\n",
            "76º id: CTID62499873\n",
            "77º id: CTID70707358\n",
            "78º id: CTID28195227\n",
            "79º id: CTID36309710\n",
            "80º id: CTID78032595\n",
            "81º id: CTID34574410\n",
            "82º id: CTID30494187\n",
            "83º id: CTID33699337\n",
            "84º id: CTID69594649\n",
            "85º id: CTID20456246\n",
            "86º id: CTID45648244\n",
            "87º id: CTID44626561\n",
            "88º id: CTID80436326\n",
            "89º id: CTID63195033\n",
            "90º id: CTID65786114\n",
            "91º id: CTID54381577\n",
            "92º id: CTID24913963\n",
            "93º id: CTID49913734\n",
            "94º id: CTID18338743\n",
            "95º id: CTID73000031\n",
            "96º id: CTID95135812\n",
            "97º id: CTID81793385\n",
            "98º id: CTID36997643\n",
            "99º id: CTID73773088\n",
            "100º id: CTID73429087\n",
            "101º id: CTID50558449\n",
            "102º id: CTID41668436\n",
            "103º id: CTID99663510\n",
            "104º id: CTID15730669\n",
            "105º id: CTID92439353\n",
            "106º id: CTID43014391\n",
            "107º id: CTID56692687\n",
            "108º id: CTID52594996\n",
            "109º id: CTID26555772\n"
          ],
          "name": "stdout"
        }
      ]
    },
    {
      "cell_type": "markdown",
      "metadata": {
        "id": "Pmi0BO5hOSKg"
      },
      "source": [
        "\n",
        "\n",
        "---\n",
        "\n"
      ]
    },
    {
      "cell_type": "markdown",
      "metadata": {
        "id": "l6tIL94q2mJS"
      },
      "source": [
        "2. *Analysis:*"
      ]
    },
    {
      "cell_type": "markdown",
      "metadata": {
        "id": "7ptgwGOs2zSB"
      },
      "source": [
        "- Analyze whether or not the fraudulent transactions are somehow associated to other features in the dataset. Explain your results."
      ]
    },
    {
      "cell_type": "markdown",
      "metadata": {
        "id": "WzrhdYvd3gfM"
      },
      "source": [
        "Primeiro eu vou analisar alguns dados sobre as transações fraudulentas."
      ]
    },
    {
      "cell_type": "code",
      "metadata": {
        "id": "XsSSabVyVU-O"
      },
      "source": [
        "# DataFrame com os dados dos cartões que já estiveram envolvidos em fraude\n",
        "df_cards_involved_in_fraud = df_card.loc[df_card['card_number'].isin(df_fraud_transactions['card_number'])]"
      ],
      "execution_count": 9,
      "outputs": []
    },
    {
      "cell_type": "code",
      "metadata": {
        "id": "nsUYccHFqaUf"
      },
      "source": [
        "# Pegando em quantas transações fraudulentas o valor passou ou foi igual ao limite de crédito do cartão em questão\n",
        "cards = np.unique(df_cards_involved_in_fraud['card_number'])\n",
        "\n",
        "higher = 0\n",
        "\n",
        "for card in cards:\n",
        "  transactions = df_fraud_transactions['value'].loc[df_fraud_transactions['card_number'] == card]\n",
        "  card_limit = df_cards_involved_in_fraud['credit_limit'].loc[df_cards_involved_in_fraud['card_number'] == card]\n",
        "  for transaction in transactions:\n",
        "    if transaction >= int(card_limit):\n",
        "      higher += 1"
      ],
      "execution_count": 10,
      "outputs": []
    },
    {
      "cell_type": "code",
      "metadata": {
        "colab": {
          "base_uri": "https://localhost:8080/",
          "height": 210
        },
        "id": "rlgnCt-XtH1A",
        "outputId": "b8c3b559-29e9-4939-fed5-add376cebd80"
      },
      "source": [
        "# Plotando um gráfico de setores mostrando os resultados da última célula\n",
        "\n",
        "fig, ax = plt.subplots(figsize=(6, 3), subplot_kw=dict(aspect=\"equal\"))\n",
        "\n",
        "data = [higher, df_fraud_transactions['id'].count()-higher]\n",
        "card_families = [\"Higher than or equal\", \"Less than\"]\n",
        "\n",
        "\n",
        "def func(pct, allvals):\n",
        "    absolute = int(pct/100.*np.sum(allvals))\n",
        "    return \"{:.1f}%\\n({:d})\".format(pct, absolute)\n",
        "\n",
        "\n",
        "wedges, texts, autotexts = ax.pie(data, autopct=lambda pct: func(pct, data),\n",
        "                                  textprops=dict(color=\"w\"))\n",
        "\n",
        "ax.legend(wedges, card_families,\n",
        "          loc=\"center left\",\n",
        "          bbox_to_anchor=(1, 0, 0.5, 1))\n",
        "\n",
        "plt.setp(autotexts, size=8, weight=\"bold\")\n",
        "\n",
        "ax.set_title(\"Transactions flagged as fraud where its value was higher than or equal that card's credit_limit\")\n",
        "\n",
        "plt.show()"
      ],
      "execution_count": 11,
      "outputs": [
        {
          "output_type": "display_data",
          "data": {
            "image/png": "[encoded data removed]",
            "text/plain": [
              "<Figure size 432x216 with 1 Axes>"
            ]
          },
          "metadata": {
            "tags": []
          }
        }
      ]
    },
    {
      "cell_type": "code",
      "metadata": {
        "id": "Ltw-EFb5xNBo"
      },
      "source": [
        "customers = np.unique(df_cards_involved_in_fraud['customer_id'])\n",
        "\n",
        "customer_cards_involved_in_frauds = df_customers.loc[df_customers['id'].isin(customers)]"
      ],
      "execution_count": 12,
      "outputs": []
    },
    {
      "cell_type": "code",
      "metadata": {
        "colab": {
          "base_uri": "https://localhost:8080/"
        },
        "id": "2M_b4rUEzmOP",
        "outputId": "5961ab91-1695-4ece-df7b-a83f8d2fe26c"
      },
      "source": [
        "avg_age_frauds = customer_cards_involved_in_frauds['age'].mean()\n",
        "print(\"Average age of customers whose cards where involved in fraud: {} years old.\".format(round(avg_age_frauds, 2)))"
      ],
      "execution_count": 13,
      "outputs": [
        {
          "output_type": "stream",
          "text": [
            "Average age of customers whose cards where involved in fraud: 34.66 years old.\n"
          ],
          "name": "stdout"
        }
      ]
    },
    {
      "cell_type": "code",
      "metadata": {
        "colab": {
          "base_uri": "https://localhost:8080/"
        },
        "id": "_AIbVneL0sH1",
        "outputId": "f73183f9-be44-4119-a847-6ffd2e05db5b"
      },
      "source": [
        "families = np.unique(customer_cards_involved_in_frauds['segment']) \n",
        "data = [(seg, customer_cards_involved_in_frauds['segment'].loc[customer_cards_involved_in_frauds['segment'] == seg].count()) for seg in families]\n",
        "data"
      ],
      "execution_count": 14,
      "outputs": [
        {
          "output_type": "execute_result",
          "data": {
            "text/plain": [
              "[('Diamond', 48), ('Gold', 25), ('Platinum', 24)]"
            ]
          },
          "metadata": {
            "tags": []
          },
          "execution_count": 14
        }
      ]
    },
    {
      "cell_type": "code",
      "metadata": {
        "colab": {
          "base_uri": "https://localhost:8080/"
        },
        "id": "zcJLA1VQ2bL9",
        "outputId": "98eff962-617a-42b5-d276-abffc57f06f9"
      },
      "source": [
        "data = zip(*data)\n",
        "data1 = list(data)\n",
        "data1"
      ],
      "execution_count": 15,
      "outputs": [
        {
          "output_type": "execute_result",
          "data": {
            "text/plain": [
              "[('Diamond', 'Gold', 'Platinum'), (48, 25, 24)]"
            ]
          },
          "metadata": {
            "tags": []
          },
          "execution_count": 15
        }
      ]
    },
    {
      "cell_type": "code",
      "metadata": {
        "colab": {
          "base_uri": "https://localhost:8080/",
          "height": 210
        },
        "id": "dZqHL2nZ21EK",
        "outputId": "d8e89b87-5cd2-48c9-c018-e049a165afdb"
      },
      "source": [
        "# Plotting a pie plot\n",
        "\n",
        "fig, ax = plt.subplots(figsize=(6, 3), subplot_kw=dict(aspect=\"equal\"))\n",
        "\n",
        "data = data1[1]\n",
        "card_families = data1[0]\n",
        "\n",
        "\n",
        "def func(pct, allvals):\n",
        "    absolute = int(pct/100.*np.sum(allvals))\n",
        "    return \"{:.1f}%\\n({:d})\".format(pct, absolute)\n",
        "\n",
        "\n",
        "wedges, texts, autotexts = ax.pie(data, autopct=lambda pct: func(pct, data),\n",
        "                                  textprops=dict(color=\"w\"))\n",
        "\n",
        "ax.legend(wedges, card_families,\n",
        "          title=\"Segment\",\n",
        "          loc=\"center left\",\n",
        "          bbox_to_anchor=(1, 0, 0.5, 1))\n",
        "\n",
        "plt.setp(autotexts, size=8, weight=\"bold\")\n",
        "\n",
        "ax.set_title(\"Segment of the customers involved in frauds\")\n",
        "\n",
        "plt.show()"
      ],
      "execution_count": 16,
      "outputs": [
        {
          "output_type": "display_data",
          "data": {
            "image/png": "[encoded data removed]",
            "text/plain": [
              "<Figure size 432x216 with 1 Axes>"
            ]
          },
          "metadata": {
            "tags": []
          }
        }
      ]
    },
    {
      "cell_type": "code",
      "metadata": {
        "colab": {
          "base_uri": "https://localhost:8080/"
        },
        "id": "cKaEqiXd4ML9",
        "outputId": "7e8c5f6a-ffac-436d-9e9f-0161df0008b7"
      },
      "source": [
        "vg = np.unique(customer_cards_involved_in_frauds['vintage_group']) \n",
        "data = [(v, customer_cards_involved_in_frauds['vintage_group'].loc[customer_cards_involved_in_frauds['vintage_group'] == v].count()) for v in vg]\n",
        "data"
      ],
      "execution_count": 17,
      "outputs": [
        {
          "output_type": "execute_result",
          "data": {
            "text/plain": [
              "[('VG1', 48), ('VG2', 24), ('VG3', 25)]"
            ]
          },
          "metadata": {
            "tags": []
          },
          "execution_count": 17
        }
      ]
    },
    {
      "cell_type": "code",
      "metadata": {
        "colab": {
          "base_uri": "https://localhost:8080/"
        },
        "id": "TeIPsocz4hhr",
        "outputId": "95dd2c04-3a01-46cd-d29d-ffa70ea693b0"
      },
      "source": [
        "data = zip(*data)\n",
        "data1 = list(data)\n",
        "data1"
      ],
      "execution_count": 18,
      "outputs": [
        {
          "output_type": "execute_result",
          "data": {
            "text/plain": [
              "[('VG1', 'VG2', 'VG3'), (48, 24, 25)]"
            ]
          },
          "metadata": {
            "tags": []
          },
          "execution_count": 18
        }
      ]
    },
    {
      "cell_type": "code",
      "metadata": {
        "colab": {
          "base_uri": "https://localhost:8080/",
          "height": 210
        },
        "id": "3sLzhUnM4oit",
        "outputId": "d9a64bc2-3baa-49c4-da47-01519237a903"
      },
      "source": [
        "# Plotting a pie plot\n",
        "\n",
        "fig, ax = plt.subplots(figsize=(6, 3), subplot_kw=dict(aspect=\"equal\"))\n",
        "\n",
        "data = data1[1]\n",
        "card_families = data1[0]\n",
        "\n",
        "\n",
        "def func(pct, allvals):\n",
        "    absolute = int(pct/100.*np.sum(allvals))\n",
        "    return \"{:.1f}%\\n({:d})\".format(pct, absolute)\n",
        "\n",
        "\n",
        "wedges, texts, autotexts = ax.pie(data, autopct=lambda pct: func(pct, data),\n",
        "                                  textprops=dict(color=\"w\"))\n",
        "\n",
        "ax.legend(wedges, card_families,\n",
        "          title=\"vintage_group\",\n",
        "          loc=\"center left\",\n",
        "          bbox_to_anchor=(1, 0, 0.5, 1))\n",
        "\n",
        "plt.setp(autotexts, size=8, weight=\"bold\")\n",
        "\n",
        "ax.set_title(\"Vintage group of the cards involved in frauds\")\n",
        "\n",
        "plt.show()"
      ],
      "execution_count": 19,
      "outputs": [
        {
          "output_type": "display_data",
          "data": {
            "image/png": "[encoded data removed]",
            "text/plain": [
              "<Figure size 432x216 with 1 Axes>"
            ]
          },
          "metadata": {
            "tags": []
          }
        }
      ]
    },
    {
      "cell_type": "code",
      "metadata": {
        "colab": {
          "base_uri": "https://localhost:8080/",
          "height": 424
        },
        "id": "3QCfXSZRSZoY",
        "outputId": "d9df4a24-c607-4093-ba71-0c52565fc6bc"
      },
      "source": [
        "df_transactions['is_fraud'] = [0 for i in range(df_transactions['id'].count())]\n",
        "df_transactions"
      ],
      "execution_count": 20,
      "outputs": [
        {
          "output_type": "execute_result",
          "data": {
            "text/html": [
              "<div>\n",
              "<style scoped>\n",
              "    .dataframe tbody tr th:only-of-type {\n",
              "        vertical-align: middle;\n",
              "    }\n",
              "\n",
              "    .dataframe tbody tr th {\n",
              "        vertical-align: top;\n",
              "    }\n",
              "\n",
              "    .dataframe thead th {\n",
              "        text-align: right;\n",
              "    }\n",
              "</style>\n",
              "<table border=\"1\" class=\"dataframe\">\n",
              "  <thead>\n",
              "    <tr style=\"text-align: right;\">\n",
              "      <th></th>\n",
              "      <th>id</th>\n",
              "      <th>card_number</th>\n",
              "      <th>transaction_date</th>\n",
              "      <th>value</th>\n",
              "      <th>segment</th>\n",
              "      <th>is_fraud</th>\n",
              "    </tr>\n",
              "  </thead>\n",
              "  <tbody>\n",
              "    <tr>\n",
              "      <th>0</th>\n",
              "      <td>CTID28830551</td>\n",
              "      <td>1629-9566-3285-2123</td>\n",
              "      <td>2016-04-24</td>\n",
              "      <td>23649</td>\n",
              "      <td>SEG25</td>\n",
              "      <td>0</td>\n",
              "    </tr>\n",
              "    <tr>\n",
              "      <th>1</th>\n",
              "      <td>CTID45504917</td>\n",
              "      <td>3697-6001-4909-5350</td>\n",
              "      <td>2016-02-11</td>\n",
              "      <td>26726</td>\n",
              "      <td>SEG16</td>\n",
              "      <td>0</td>\n",
              "    </tr>\n",
              "    <tr>\n",
              "      <th>2</th>\n",
              "      <td>CTID47312290</td>\n",
              "      <td>5864-4475-3659-1440</td>\n",
              "      <td>2016-11-01</td>\n",
              "      <td>22012</td>\n",
              "      <td>SEG14</td>\n",
              "      <td>0</td>\n",
              "    </tr>\n",
              "    <tr>\n",
              "      <th>3</th>\n",
              "      <td>CTID25637718</td>\n",
              "      <td>5991-4421-8476-3804</td>\n",
              "      <td>2016-01-28</td>\n",
              "      <td>37637</td>\n",
              "      <td>SEG17</td>\n",
              "      <td>0</td>\n",
              "    </tr>\n",
              "    <tr>\n",
              "      <th>4</th>\n",
              "      <td>CTID66743960</td>\n",
              "      <td>1893-8853-9900-8478</td>\n",
              "      <td>2016-03-17</td>\n",
              "      <td>5113</td>\n",
              "      <td>SEG14</td>\n",
              "      <td>0</td>\n",
              "    </tr>\n",
              "    <tr>\n",
              "      <th>...</th>\n",
              "      <td>...</td>\n",
              "      <td>...</td>\n",
              "      <td>...</td>\n",
              "      <td>...</td>\n",
              "      <td>...</td>\n",
              "      <td>...</td>\n",
              "    </tr>\n",
              "    <tr>\n",
              "      <th>9995</th>\n",
              "      <td>CTID25037573</td>\n",
              "      <td>9157-2802-8374-1145</td>\n",
              "      <td>2016-06-10</td>\n",
              "      <td>44280</td>\n",
              "      <td>SEG18</td>\n",
              "      <td>0</td>\n",
              "    </tr>\n",
              "    <tr>\n",
              "      <th>9996</th>\n",
              "      <td>CTID43832298</td>\n",
              "      <td>7416-4529-6690-5703</td>\n",
              "      <td>2016-05-23</td>\n",
              "      <td>27163</td>\n",
              "      <td>SEG12</td>\n",
              "      <td>0</td>\n",
              "    </tr>\n",
              "    <tr>\n",
              "      <th>9997</th>\n",
              "      <td>CTID56532072</td>\n",
              "      <td>6699-2639-4522-6219</td>\n",
              "      <td>2016-08-06</td>\n",
              "      <td>36424</td>\n",
              "      <td>SEG13</td>\n",
              "      <td>0</td>\n",
              "    </tr>\n",
              "    <tr>\n",
              "      <th>9998</th>\n",
              "      <td>CTID88101446</td>\n",
              "      <td>8341-5263-4582-7396</td>\n",
              "      <td>2016-10-10</td>\n",
              "      <td>8464</td>\n",
              "      <td>SEG14</td>\n",
              "      <td>0</td>\n",
              "    </tr>\n",
              "    <tr>\n",
              "      <th>9999</th>\n",
              "      <td>CTID64730271</td>\n",
              "      <td>1947-8602-1695-7503</td>\n",
              "      <td>2016-06-18</td>\n",
              "      <td>7606</td>\n",
              "      <td>SEG15</td>\n",
              "      <td>0</td>\n",
              "    </tr>\n",
              "  </tbody>\n",
              "</table>\n",
              "<p>10000 rows × 6 columns</p>\n",
              "</div>"
            ],
            "text/plain": [
              "                id          card_number  ... segment  is_fraud\n",
              "0     CTID28830551  1629-9566-3285-2123  ...   SEG25         0\n",
              "1     CTID45504917  3697-6001-4909-5350  ...   SEG16         0\n",
              "2     CTID47312290  5864-4475-3659-1440  ...   SEG14         0\n",
              "3     CTID25637718  5991-4421-8476-3804  ...   SEG17         0\n",
              "4     CTID66743960  1893-8853-9900-8478  ...   SEG14         0\n",
              "...            ...                  ...  ...     ...       ...\n",
              "9995  CTID25037573  9157-2802-8374-1145  ...   SEG18         0\n",
              "9996  CTID43832298  7416-4529-6690-5703  ...   SEG12         0\n",
              "9997  CTID56532072  6699-2639-4522-6219  ...   SEG13         0\n",
              "9998  CTID88101446  8341-5263-4582-7396  ...   SEG14         0\n",
              "9999  CTID64730271  1947-8602-1695-7503  ...   SEG15         0\n",
              "\n",
              "[10000 rows x 6 columns]"
            ]
          },
          "metadata": {
            "tags": []
          },
          "execution_count": 20
        }
      ]
    },
    {
      "cell_type": "code",
      "metadata": {
        "colab": {
          "base_uri": "https://localhost:8080/"
        },
        "id": "3G0rlgAvS3gX",
        "outputId": "d8e5c5e8-45f3-4060-9e68-b0ca76cbb56e"
      },
      "source": [
        "frauds = np.array(df_fraud_transactions['id'])\n",
        "for fraud in frauds:\n",
        "  df_transactions['is_fraud'].loc[df_transactions['id'] == fraud] = 1"
      ],
      "execution_count": 21,
      "outputs": [
        {
          "output_type": "stream",
          "text": [
            "/usr/local/lib/python3.7/dist-packages/pandas/core/indexing.py:670: SettingWithCopyWarning: \n",
            "A value is trying to be set on a copy of a slice from a DataFrame\n",
            "\n",
            "See the caveats in the documentation: https://pandas.pydata.org/pandas-docs/stable/user_guide/indexing.html#returning-a-view-versus-a-copy\n",
            "  iloc._setitem_with_indexer(indexer, value)\n"
          ],
          "name": "stderr"
        }
      ]
    },
    {
      "cell_type": "code",
      "metadata": {
        "colab": {
          "base_uri": "https://localhost:8080/",
          "height": 206
        },
        "id": "pO3-XOdZBpS-",
        "outputId": "dde03f7b-5ea9-48f0-c25d-92b03eef5b2f"
      },
      "source": [
        "df_transactions['segment'] = list(map(lambda x: int(x[3:]), list(df_transactions['segment'])))\n",
        "df_transactions.head()"
      ],
      "execution_count": 22,
      "outputs": [
        {
          "output_type": "execute_result",
          "data": {
            "text/html": [
              "<div>\n",
              "<style scoped>\n",
              "    .dataframe tbody tr th:only-of-type {\n",
              "        vertical-align: middle;\n",
              "    }\n",
              "\n",
              "    .dataframe tbody tr th {\n",
              "        vertical-align: top;\n",
              "    }\n",
              "\n",
              "    .dataframe thead th {\n",
              "        text-align: right;\n",
              "    }\n",
              "</style>\n",
              "<table border=\"1\" class=\"dataframe\">\n",
              "  <thead>\n",
              "    <tr style=\"text-align: right;\">\n",
              "      <th></th>\n",
              "      <th>id</th>\n",
              "      <th>card_number</th>\n",
              "      <th>transaction_date</th>\n",
              "      <th>value</th>\n",
              "      <th>segment</th>\n",
              "      <th>is_fraud</th>\n",
              "    </tr>\n",
              "  </thead>\n",
              "  <tbody>\n",
              "    <tr>\n",
              "      <th>0</th>\n",
              "      <td>CTID28830551</td>\n",
              "      <td>1629-9566-3285-2123</td>\n",
              "      <td>2016-04-24</td>\n",
              "      <td>23649</td>\n",
              "      <td>25</td>\n",
              "      <td>0</td>\n",
              "    </tr>\n",
              "    <tr>\n",
              "      <th>1</th>\n",
              "      <td>CTID45504917</td>\n",
              "      <td>3697-6001-4909-5350</td>\n",
              "      <td>2016-02-11</td>\n",
              "      <td>26726</td>\n",
              "      <td>16</td>\n",
              "      <td>0</td>\n",
              "    </tr>\n",
              "    <tr>\n",
              "      <th>2</th>\n",
              "      <td>CTID47312290</td>\n",
              "      <td>5864-4475-3659-1440</td>\n",
              "      <td>2016-11-01</td>\n",
              "      <td>22012</td>\n",
              "      <td>14</td>\n",
              "      <td>0</td>\n",
              "    </tr>\n",
              "    <tr>\n",
              "      <th>3</th>\n",
              "      <td>CTID25637718</td>\n",
              "      <td>5991-4421-8476-3804</td>\n",
              "      <td>2016-01-28</td>\n",
              "      <td>37637</td>\n",
              "      <td>17</td>\n",
              "      <td>0</td>\n",
              "    </tr>\n",
              "    <tr>\n",
              "      <th>4</th>\n",
              "      <td>CTID66743960</td>\n",
              "      <td>1893-8853-9900-8478</td>\n",
              "      <td>2016-03-17</td>\n",
              "      <td>5113</td>\n",
              "      <td>14</td>\n",
              "      <td>0</td>\n",
              "    </tr>\n",
              "  </tbody>\n",
              "</table>\n",
              "</div>"
            ],
            "text/plain": [
              "             id          card_number transaction_date  value  segment  is_fraud\n",
              "0  CTID28830551  1629-9566-3285-2123       2016-04-24  23649       25         0\n",
              "1  CTID45504917  3697-6001-4909-5350       2016-02-11  26726       16         0\n",
              "2  CTID47312290  5864-4475-3659-1440       2016-11-01  22012       14         0\n",
              "3  CTID25637718  5991-4421-8476-3804       2016-01-28  37637       17         0\n",
              "4  CTID66743960  1893-8853-9900-8478       2016-03-17   5113       14         0"
            ]
          },
          "metadata": {
            "tags": []
          },
          "execution_count": 22
        }
      ]
    },
    {
      "cell_type": "code",
      "metadata": {
        "id": "1PWLQ4PVvLXa"
      },
      "source": [
        "import datetime\n",
        "\n",
        "df_transactions['transaction_date'] = list(\n",
        "    map(\n",
        "        lambda x: datetime.datetime(int(x.split('-')[0]), int(x.split('-')[1]), int(x.split('-')[2])), \n",
        "        list(df_transactions['transaction_date'])\n",
        "        )\n",
        "    )"
      ],
      "execution_count": 23,
      "outputs": []
    },
    {
      "cell_type": "code",
      "metadata": {
        "id": "ekUSgxgOw4aq"
      },
      "source": [
        "df_transactions = df_transactions.sort_values(by='transaction_date')"
      ],
      "execution_count": 24,
      "outputs": []
    },
    {
      "cell_type": "code",
      "metadata": {
        "colab": {
          "base_uri": "https://localhost:8080/",
          "height": 206
        },
        "id": "pfpLZ9v5-iYb",
        "outputId": "bc3b26ef-3c0e-44a0-9580-79dd2b2c0b77"
      },
      "source": [
        "segments = {\n",
        "    'Diamond': 1,\n",
        "    'Gold': 2,\n",
        "    'Platinum': 3\n",
        "}\n",
        "df_customers['segment'] = list(map(lambda x: segments[x], list(df_customers['segment'])))\n",
        "df_customers.head()"
      ],
      "execution_count": 25,
      "outputs": [
        {
          "output_type": "execute_result",
          "data": {
            "text/html": [
              "<div>\n",
              "<style scoped>\n",
              "    .dataframe tbody tr th:only-of-type {\n",
              "        vertical-align: middle;\n",
              "    }\n",
              "\n",
              "    .dataframe tbody tr th {\n",
              "        vertical-align: top;\n",
              "    }\n",
              "\n",
              "    .dataframe thead th {\n",
              "        text-align: right;\n",
              "    }\n",
              "</style>\n",
              "<table border=\"1\" class=\"dataframe\">\n",
              "  <thead>\n",
              "    <tr style=\"text-align: right;\">\n",
              "      <th></th>\n",
              "      <th>id</th>\n",
              "      <th>age</th>\n",
              "      <th>segment</th>\n",
              "      <th>vintage_group</th>\n",
              "    </tr>\n",
              "  </thead>\n",
              "  <tbody>\n",
              "    <tr>\n",
              "      <th>0</th>\n",
              "      <td>CC25034</td>\n",
              "      <td>35</td>\n",
              "      <td>1</td>\n",
              "      <td>VG1</td>\n",
              "    </tr>\n",
              "    <tr>\n",
              "      <th>1</th>\n",
              "      <td>CC59625</td>\n",
              "      <td>22</td>\n",
              "      <td>1</td>\n",
              "      <td>VG1</td>\n",
              "    </tr>\n",
              "    <tr>\n",
              "      <th>2</th>\n",
              "      <td>CC69314</td>\n",
              "      <td>33</td>\n",
              "      <td>1</td>\n",
              "      <td>VG1</td>\n",
              "    </tr>\n",
              "    <tr>\n",
              "      <th>3</th>\n",
              "      <td>CC67036</td>\n",
              "      <td>46</td>\n",
              "      <td>1</td>\n",
              "      <td>VG1</td>\n",
              "    </tr>\n",
              "    <tr>\n",
              "      <th>4</th>\n",
              "      <td>CC25597</td>\n",
              "      <td>44</td>\n",
              "      <td>1</td>\n",
              "      <td>VG1</td>\n",
              "    </tr>\n",
              "  </tbody>\n",
              "</table>\n",
              "</div>"
            ],
            "text/plain": [
              "        id  age  segment vintage_group\n",
              "0  CC25034   35        1           VG1\n",
              "1  CC59625   22        1           VG1\n",
              "2  CC69314   33        1           VG1\n",
              "3  CC67036   46        1           VG1\n",
              "4  CC25597   44        1           VG1"
            ]
          },
          "metadata": {
            "tags": []
          },
          "execution_count": 25
        }
      ]
    },
    {
      "cell_type": "code",
      "metadata": {
        "colab": {
          "base_uri": "https://localhost:8080/",
          "height": 206
        },
        "id": "KxDjCLe3_GDm",
        "outputId": "4b815120-cf9d-48f7-ef01-047c0b91799d"
      },
      "source": [
        "df_customers['vintage_group'] = list(map(lambda x: int(x[2:]), list(df_customers['vintage_group'])))\n",
        "df_customers.head()"
      ],
      "execution_count": 26,
      "outputs": [
        {
          "output_type": "execute_result",
          "data": {
            "text/html": [
              "<div>\n",
              "<style scoped>\n",
              "    .dataframe tbody tr th:only-of-type {\n",
              "        vertical-align: middle;\n",
              "    }\n",
              "\n",
              "    .dataframe tbody tr th {\n",
              "        vertical-align: top;\n",
              "    }\n",
              "\n",
              "    .dataframe thead th {\n",
              "        text-align: right;\n",
              "    }\n",
              "</style>\n",
              "<table border=\"1\" class=\"dataframe\">\n",
              "  <thead>\n",
              "    <tr style=\"text-align: right;\">\n",
              "      <th></th>\n",
              "      <th>id</th>\n",
              "      <th>age</th>\n",
              "      <th>segment</th>\n",
              "      <th>vintage_group</th>\n",
              "    </tr>\n",
              "  </thead>\n",
              "  <tbody>\n",
              "    <tr>\n",
              "      <th>0</th>\n",
              "      <td>CC25034</td>\n",
              "      <td>35</td>\n",
              "      <td>1</td>\n",
              "      <td>1</td>\n",
              "    </tr>\n",
              "    <tr>\n",
              "      <th>1</th>\n",
              "      <td>CC59625</td>\n",
              "      <td>22</td>\n",
              "      <td>1</td>\n",
              "      <td>1</td>\n",
              "    </tr>\n",
              "    <tr>\n",
              "      <th>2</th>\n",
              "      <td>CC69314</td>\n",
              "      <td>33</td>\n",
              "      <td>1</td>\n",
              "      <td>1</td>\n",
              "    </tr>\n",
              "    <tr>\n",
              "      <th>3</th>\n",
              "      <td>CC67036</td>\n",
              "      <td>46</td>\n",
              "      <td>1</td>\n",
              "      <td>1</td>\n",
              "    </tr>\n",
              "    <tr>\n",
              "      <th>4</th>\n",
              "      <td>CC25597</td>\n",
              "      <td>44</td>\n",
              "      <td>1</td>\n",
              "      <td>1</td>\n",
              "    </tr>\n",
              "  </tbody>\n",
              "</table>\n",
              "</div>"
            ],
            "text/plain": [
              "        id  age  segment  vintage_group\n",
              "0  CC25034   35        1              1\n",
              "1  CC59625   22        1              1\n",
              "2  CC69314   33        1              1\n",
              "3  CC67036   46        1              1\n",
              "4  CC25597   44        1              1"
            ]
          },
          "metadata": {
            "tags": []
          },
          "execution_count": 26
        }
      ]
    },
    {
      "cell_type": "code",
      "metadata": {
        "colab": {
          "base_uri": "https://localhost:8080/",
          "height": 143
        },
        "id": "p7K2rS-2A_qf",
        "outputId": "43b5a63a-775e-4b9e-a7b3-5ad022db0657"
      },
      "source": [
        "df_customers.corr()"
      ],
      "execution_count": 27,
      "outputs": [
        {
          "output_type": "execute_result",
          "data": {
            "text/html": [
              "<div>\n",
              "<style scoped>\n",
              "    .dataframe tbody tr th:only-of-type {\n",
              "        vertical-align: middle;\n",
              "    }\n",
              "\n",
              "    .dataframe tbody tr th {\n",
              "        vertical-align: top;\n",
              "    }\n",
              "\n",
              "    .dataframe thead th {\n",
              "        text-align: right;\n",
              "    }\n",
              "</style>\n",
              "<table border=\"1\" class=\"dataframe\">\n",
              "  <thead>\n",
              "    <tr style=\"text-align: right;\">\n",
              "      <th></th>\n",
              "      <th>age</th>\n",
              "      <th>segment</th>\n",
              "      <th>vintage_group</th>\n",
              "    </tr>\n",
              "  </thead>\n",
              "  <tbody>\n",
              "    <tr>\n",
              "      <th>age</th>\n",
              "      <td>1.000000</td>\n",
              "      <td>-0.005755</td>\n",
              "      <td>-0.005863</td>\n",
              "    </tr>\n",
              "    <tr>\n",
              "      <th>segment</th>\n",
              "      <td>-0.005755</td>\n",
              "      <td>1.000000</td>\n",
              "      <td>0.607736</td>\n",
              "    </tr>\n",
              "    <tr>\n",
              "      <th>vintage_group</th>\n",
              "      <td>-0.005863</td>\n",
              "      <td>0.607736</td>\n",
              "      <td>1.000000</td>\n",
              "    </tr>\n",
              "  </tbody>\n",
              "</table>\n",
              "</div>"
            ],
            "text/plain": [
              "                    age   segment  vintage_group\n",
              "age            1.000000 -0.005755      -0.005863\n",
              "segment       -0.005755  1.000000       0.607736\n",
              "vintage_group -0.005863  0.607736       1.000000"
            ]
          },
          "metadata": {
            "tags": []
          },
          "execution_count": 27
        }
      ]
    },
    {
      "cell_type": "code",
      "metadata": {
        "id": "CtA9xmYMy-9s"
      },
      "source": [
        "card_family = {\n",
        "    'Premium': 1,\n",
        "    'Gold': 2,\n",
        "    'Platinum': 3\n",
        "}\n",
        "df_card['card_family'] = list(map(lambda x: card_family[x], list(df_card['card_family'])))"
      ],
      "execution_count": 28,
      "outputs": []
    },
    {
      "cell_type": "code",
      "metadata": {
        "id": "YVpM50i6zolt"
      },
      "source": [
        "df_card['customer_id'] = list(map(lambda x: int(x[2:]), list(df_card['customer_id'])))"
      ],
      "execution_count": 29,
      "outputs": []
    },
    {
      "cell_type": "code",
      "metadata": {
        "id": "cikKtThBh7dK"
      },
      "source": [
        "df_customers['id'] = list(map(lambda x: int(x[2:]), list(df_customers['id'])))"
      ],
      "execution_count": 34,
      "outputs": []
    },
    {
      "cell_type": "code",
      "metadata": {
        "id": "BRP9tK59ichD",
        "outputId": "305c6f7f-b01a-40c3-dc1b-5b96f2b4ce31",
        "colab": {
          "base_uri": "https://localhost:8080/",
          "height": 310
        }
      },
      "source": [
        "df_cards_involved_in_fraud['customer_id'] = list(map(lambda x: int(x[2:]), list(df_cards_involved_in_fraud['customer_id'])))\n",
        "df_cards_involved_in_fraud.head()"
      ],
      "execution_count": 37,
      "outputs": [
        {
          "output_type": "stream",
          "text": [
            "/usr/local/lib/python3.7/dist-packages/ipykernel_launcher.py:1: SettingWithCopyWarning: \n",
            "A value is trying to be set on a copy of a slice from a DataFrame.\n",
            "Try using .loc[row_indexer,col_indexer] = value instead\n",
            "\n",
            "See the caveats in the documentation: https://pandas.pydata.org/pandas-docs/stable/user_guide/indexing.html#returning-a-view-versus-a-copy\n",
            "  \"\"\"Entry point for launching an IPython kernel.\n"
          ],
          "name": "stderr"
        },
        {
          "output_type": "execute_result",
          "data": {
            "text/html": [
              "<div>\n",
              "<style scoped>\n",
              "    .dataframe tbody tr th:only-of-type {\n",
              "        vertical-align: middle;\n",
              "    }\n",
              "\n",
              "    .dataframe tbody tr th {\n",
              "        vertical-align: top;\n",
              "    }\n",
              "\n",
              "    .dataframe thead th {\n",
              "        text-align: right;\n",
              "    }\n",
              "</style>\n",
              "<table border=\"1\" class=\"dataframe\">\n",
              "  <thead>\n",
              "    <tr style=\"text-align: right;\">\n",
              "      <th></th>\n",
              "      <th>card_number</th>\n",
              "      <th>card_family</th>\n",
              "      <th>credit_limit</th>\n",
              "      <th>customer_id</th>\n",
              "    </tr>\n",
              "  </thead>\n",
              "  <tbody>\n",
              "    <tr>\n",
              "      <th>14</th>\n",
              "      <td>7214-4915-6387-5429</td>\n",
              "      <td>Platinum</td>\n",
              "      <td>172000</td>\n",
              "      <td>72302</td>\n",
              "    </tr>\n",
              "    <tr>\n",
              "      <th>18</th>\n",
              "      <td>6239-8641-8524-9441</td>\n",
              "      <td>Gold</td>\n",
              "      <td>26000</td>\n",
              "      <td>18438</td>\n",
              "    </tr>\n",
              "    <tr>\n",
              "      <th>22</th>\n",
              "      <td>6228-9033-3508-8121</td>\n",
              "      <td>Gold</td>\n",
              "      <td>33000</td>\n",
              "      <td>36771</td>\n",
              "    </tr>\n",
              "    <tr>\n",
              "      <th>23</th>\n",
              "      <td>1466-1600-9312-7604</td>\n",
              "      <td>Premium</td>\n",
              "      <td>249000</td>\n",
              "      <td>60926</td>\n",
              "    </tr>\n",
              "    <tr>\n",
              "      <th>26</th>\n",
              "      <td>7586-6475-9618-3909</td>\n",
              "      <td>Gold</td>\n",
              "      <td>37000</td>\n",
              "      <td>51908</td>\n",
              "    </tr>\n",
              "  </tbody>\n",
              "</table>\n",
              "</div>"
            ],
            "text/plain": [
              "            card_number card_family  credit_limit  customer_id\n",
              "14  7214-4915-6387-5429    Platinum        172000        72302\n",
              "18  6239-8641-8524-9441        Gold         26000        18438\n",
              "22  6228-9033-3508-8121        Gold         33000        36771\n",
              "23  1466-1600-9312-7604     Premium        249000        60926\n",
              "26  7586-6475-9618-3909        Gold         37000        51908"
            ]
          },
          "metadata": {
            "tags": []
          },
          "execution_count": 37
        }
      ]
    },
    {
      "cell_type": "code",
      "metadata": {
        "id": "OFs2hV5Sls5W",
        "outputId": "efa6103f-1ff5-432a-ee5c-a7a1458be8cb",
        "colab": {
          "base_uri": "https://localhost:8080/",
          "height": 424
        }
      },
      "source": [
        "card_fraud = np.unique(df_cards_involved_in_fraud['card_number'])\n",
        "\n",
        "df_transactions = df_transactions.sort_values(by='transaction_date')\n",
        "df_transactions"
      ],
      "execution_count": 42,
      "outputs": [
        {
          "output_type": "execute_result",
          "data": {
            "text/html": [
              "<div>\n",
              "<style scoped>\n",
              "    .dataframe tbody tr th:only-of-type {\n",
              "        vertical-align: middle;\n",
              "    }\n",
              "\n",
              "    .dataframe tbody tr th {\n",
              "        vertical-align: top;\n",
              "    }\n",
              "\n",
              "    .dataframe thead th {\n",
              "        text-align: right;\n",
              "    }\n",
              "</style>\n",
              "<table border=\"1\" class=\"dataframe\">\n",
              "  <thead>\n",
              "    <tr style=\"text-align: right;\">\n",
              "      <th></th>\n",
              "      <th>id</th>\n",
              "      <th>card_number</th>\n",
              "      <th>transaction_date</th>\n",
              "      <th>value</th>\n",
              "      <th>segment</th>\n",
              "      <th>is_fraud</th>\n",
              "    </tr>\n",
              "  </thead>\n",
              "  <tbody>\n",
              "    <tr>\n",
              "      <th>7976</th>\n",
              "      <td>CTID79649665</td>\n",
              "      <td>2463-9055-1240-3878</td>\n",
              "      <td>2016-01-01</td>\n",
              "      <td>31771</td>\n",
              "      <td>11</td>\n",
              "      <td>0</td>\n",
              "    </tr>\n",
              "    <tr>\n",
              "      <th>4807</th>\n",
              "      <td>CTID74037563</td>\n",
              "      <td>6315-7338-3105-9947</td>\n",
              "      <td>2016-01-01</td>\n",
              "      <td>35600</td>\n",
              "      <td>18</td>\n",
              "      <td>0</td>\n",
              "    </tr>\n",
              "    <tr>\n",
              "      <th>1876</th>\n",
              "      <td>CTID82497421</td>\n",
              "      <td>1749-4777-2532-7766</td>\n",
              "      <td>2016-01-01</td>\n",
              "      <td>48193</td>\n",
              "      <td>25</td>\n",
              "      <td>0</td>\n",
              "    </tr>\n",
              "    <tr>\n",
              "      <th>1561</th>\n",
              "      <td>CTID70644003</td>\n",
              "      <td>9999-3058-2698-4238</td>\n",
              "      <td>2016-01-01</td>\n",
              "      <td>17443</td>\n",
              "      <td>11</td>\n",
              "      <td>0</td>\n",
              "    </tr>\n",
              "    <tr>\n",
              "      <th>8726</th>\n",
              "      <td>CTID21418659</td>\n",
              "      <td>9517-7826-1862-6726</td>\n",
              "      <td>2016-01-01</td>\n",
              "      <td>25211</td>\n",
              "      <td>21</td>\n",
              "      <td>0</td>\n",
              "    </tr>\n",
              "    <tr>\n",
              "      <th>...</th>\n",
              "      <td>...</td>\n",
              "      <td>...</td>\n",
              "      <td>...</td>\n",
              "      <td>...</td>\n",
              "      <td>...</td>\n",
              "      <td>...</td>\n",
              "    </tr>\n",
              "    <tr>\n",
              "      <th>9430</th>\n",
              "      <td>CTID43094492</td>\n",
              "      <td>7658-7645-4568-1461</td>\n",
              "      <td>2016-12-31</td>\n",
              "      <td>5336</td>\n",
              "      <td>15</td>\n",
              "      <td>0</td>\n",
              "    </tr>\n",
              "    <tr>\n",
              "      <th>4735</th>\n",
              "      <td>CTID16143048</td>\n",
              "      <td>1438-6906-2509-8219</td>\n",
              "      <td>2016-12-31</td>\n",
              "      <td>41695</td>\n",
              "      <td>14</td>\n",
              "      <td>0</td>\n",
              "    </tr>\n",
              "    <tr>\n",
              "      <th>1418</th>\n",
              "      <td>CTID98844242</td>\n",
              "      <td>1749-4777-2532-7766</td>\n",
              "      <td>2016-12-31</td>\n",
              "      <td>15221</td>\n",
              "      <td>23</td>\n",
              "      <td>0</td>\n",
              "    </tr>\n",
              "    <tr>\n",
              "      <th>2736</th>\n",
              "      <td>CTID82609500</td>\n",
              "      <td>2517-1247-3682-9050</td>\n",
              "      <td>2016-12-31</td>\n",
              "      <td>16375</td>\n",
              "      <td>11</td>\n",
              "      <td>0</td>\n",
              "    </tr>\n",
              "    <tr>\n",
              "      <th>156</th>\n",
              "      <td>CTID21977092</td>\n",
              "      <td>6272-7021-2748-1471</td>\n",
              "      <td>2016-12-31</td>\n",
              "      <td>8509</td>\n",
              "      <td>25</td>\n",
              "      <td>0</td>\n",
              "    </tr>\n",
              "  </tbody>\n",
              "</table>\n",
              "<p>10000 rows × 6 columns</p>\n",
              "</div>"
            ],
            "text/plain": [
              "                id          card_number  ... segment  is_fraud\n",
              "7976  CTID79649665  2463-9055-1240-3878  ...      11         0\n",
              "4807  CTID74037563  6315-7338-3105-9947  ...      18         0\n",
              "1876  CTID82497421  1749-4777-2532-7766  ...      25         0\n",
              "1561  CTID70644003  9999-3058-2698-4238  ...      11         0\n",
              "8726  CTID21418659  9517-7826-1862-6726  ...      21         0\n",
              "...            ...                  ...  ...     ...       ...\n",
              "9430  CTID43094492  7658-7645-4568-1461  ...      15         0\n",
              "4735  CTID16143048  1438-6906-2509-8219  ...      14         0\n",
              "1418  CTID98844242  1749-4777-2532-7766  ...      23         0\n",
              "2736  CTID82609500  2517-1247-3682-9050  ...      11         0\n",
              "156   CTID21977092  6272-7021-2748-1471  ...      25         0\n",
              "\n",
              "[10000 rows x 6 columns]"
            ]
          },
          "metadata": {
            "tags": []
          },
          "execution_count": 42
        }
      ]
    },
    {
      "cell_type": "code",
      "metadata": {
        "id": "IYDUpyPNm42w",
        "outputId": "86dfb42a-1d13-4c1c-fa2a-ce538ee001c6",
        "colab": {
          "base_uri": "https://localhost:8080/"
        }
      },
      "source": [
        "df_transactions.info()"
      ],
      "execution_count": 41,
      "outputs": [
        {
          "output_type": "stream",
          "text": [
            "<class 'pandas.core.frame.DataFrame'>\n",
            "Int64Index: 10000 entries, 7976 to 156\n",
            "Data columns (total 6 columns):\n",
            " #   Column            Non-Null Count  Dtype         \n",
            "---  ------            --------------  -----         \n",
            " 0   id                10000 non-null  object        \n",
            " 1   card_number       10000 non-null  object        \n",
            " 2   transaction_date  10000 non-null  datetime64[ns]\n",
            " 3   value             10000 non-null  int64         \n",
            " 4   segment           10000 non-null  int64         \n",
            " 5   is_fraud          10000 non-null  int64         \n",
            "dtypes: datetime64[ns](1), int64(3), object(2)\n",
            "memory usage: 546.9+ KB\n"
          ],
          "name": "stdout"
        }
      ]
    }
  ]
}