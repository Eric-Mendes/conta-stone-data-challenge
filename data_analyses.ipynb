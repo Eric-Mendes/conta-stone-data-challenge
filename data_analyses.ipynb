{
  "nbformat": 4,
  "nbformat_minor": 0,
  "metadata": {
    "colab": {
      "name": "data-analyses.ipynb",
      "provenance": [],
      "authorship_tag": "ABX9TyMQw0V5MSOoFEV0MyYmVlCY",
      "include_colab_link": true
    },
    "kernelspec": {
      "name": "python3",
      "display_name": "Python 3"
    }
  },
  "cells": [
    {
      "cell_type": "markdown",
      "metadata": {
        "id": "view-in-github",
        "colab_type": "text"
      },
      "source": [
        "<a href=\"https://colab.research.google.com/github/Eric-Mendes/conta-stone-data-challenge/blob/main/data_analyses.ipynb\" target=\"_parent\"><img src=\"https://colab.research.google.com/assets/colab-badge.svg\" alt=\"Open In Colab\"/></a>"
      ]
    },
    {
      "cell_type": "markdown",
      "metadata": {
        "id": "sXKKNqbIqf-x"
      },
      "source": [
        "**Data Intern Challenge**"
      ]
    },
    {
      "cell_type": "code",
      "metadata": {
        "id": "ByAVcRaMrDiX"
      },
      "source": [
        "# Importing the standard libraries for data analysis\n",
        "import pandas as pd\n",
        "import numpy as np\n",
        "from matplotlib import pyplot as plt"
      ],
      "execution_count": 1,
      "outputs": []
    },
    {
      "cell_type": "code",
      "metadata": {
        "id": "6v-nIZQuqWj6"
      },
      "source": [
        "# Creating dataframes for each dataset\n",
        "card_url = \"https://gist.githubusercontent.com/caiotaniguchi/\\\n",
        "8b5ee7dc75c8b6426222942ced90c4c1/raw/39ca0f8b442068aaffed35e26f0ce7f76faf1c63/\\\n",
        "dataset-cards.csv\"\n",
        "\n",
        "customers_url = \"https://gist.githubusercontent.com/caiotaniguchi/\\\n",
        "8b5ee7dc75c8b6426222942ced90c4c1/raw/39ca0f8b442068aaffed35e26f0ce7f76faf1c63/\\\n",
        "dataset-customers.csv\"\n",
        "\n",
        "fraud_url = \"https://gist.githubusercontent.com/caiotaniguchi/\\\n",
        "8b5ee7dc75c8b6426222942ced90c4c1/raw/39ca0f8b442068aaffed35e26f0ce7f76faf1c63\\\n",
        "/dataset-frauds.csv\"\n",
        "\n",
        "transactions_url = \"https://gist.githubusercontent.com/caiotaniguchi/\\\n",
        "8b5ee7dc75c8b6426222942ced90c4c1/raw/39ca0f8b442068aaffed35e26f0ce7f76faf1c63/\\\n",
        "dataset-transactions.csv\"\n",
        "\n",
        "\n",
        "df_card = pd.read_csv(card_url, sep=';')\n",
        "\n",
        "df_customers = pd.read_csv(customers_url, sep=';')\n",
        "\n",
        "df_fraud = pd.read_csv(fraud_url, sep=';')\n",
        "\n",
        "df_transactions = pd.read_csv(transactions_url, sep=';')"
      ],
      "execution_count": 2,
      "outputs": []
    },
    {
      "cell_type": "markdown",
      "metadata": {
        "id": "TqiIrEpB1Pfh"
      },
      "source": [
        "\n",
        "\n",
        "1.   *Extract and analyze the data in order to answer the following questions. Provide a description and/or comments for each solution.*\n",
        "\n"
      ]
    },
    {
      "cell_type": "code",
      "metadata": {
        "colab": {
          "base_uri": "https://localhost:8080/"
        },
        "id": "EcU_VrIx1kih",
        "outputId": "bee21da7-8ca0-4ef7-82f7-c9e46e08453e"
      },
      "source": [
        "# AVERAGE AGE OF THE CUSTOMERS IN THE DATABASE\n",
        "\n",
        "# getting the column age and turning it into a numpy array\n",
        "age = np.array(df_customers['age']) \n",
        "\n",
        "# getting the average age\n",
        "avg_age = age.mean()\n",
        "# printing the average age rounded to two decimal places\n",
        "print(\"The average age of the customers in the database is {} years old.\"\\\n",
        "      .format(round(avg_age, 2)))"
      ],
      "execution_count": 3,
      "outputs": [
        {
          "output_type": "stream",
          "text": [
            "The average age of the customers in the database is 35.06 years old.\n"
          ],
          "name": "stdout"
        }
      ]
    },
    {
      "cell_type": "markdown",
      "metadata": {
        "id": "IkelZEYwBJIC"
      },
      "source": [
        "*How is the card_family ranked based on the credit_limit given to each card?*"
      ]
    },
    {
      "cell_type": "markdown",
      "metadata": {
        "id": "B93CGTNhVNEq"
      },
      "source": [
        "Checking the quantity of each card family in the dataset so I don't draw any biased conclusion about the average credit limit for each family."
      ]
    },
    {
      "cell_type": "code",
      "metadata": {
        "id": "wZDAOAz__hEa"
      },
      "source": [
        "# getting all the card families in the dataset\n",
        "card_families = np.unique(df_card['card_family'])\n",
        "\n",
        "# getting the quantity of each card family in the dataset\n",
        "family_quantity = [(family, df_card['card_family'].loc\\\n",
        "                    [df_card.card_family == family]\\\n",
        "                   .count()) for family in card_families]\n",
        "\n",
        "# sorting in place by quantity (descending order)\n",
        "family_quantity.sort(key=lambda qty: qty[1], reverse=True)\n",
        "\n",
        "# unzipping family_quantity (separating family from quantity)\n",
        "family_quantity = zip(*family_quantity)\n",
        "family_quantity = list(family_quantity)"
      ],
      "execution_count": 4,
      "outputs": []
    },
    {
      "cell_type": "code",
      "metadata": {
        "id": "9wDX5dwSThET",
        "colab": {
          "base_uri": "https://localhost:8080/",
          "height": 210
        },
        "outputId": "f0f20f07-c1c6-4ed2-b503-840b8db294dc"
      },
      "source": [
        "# Plotting a pie plot\n",
        "\n",
        "fig, ax = plt.subplots(figsize=(6, 3), subplot_kw=dict(aspect=\"equal\"))\n",
        "\n",
        "data = family_quantity[1]\n",
        "card_families = family_quantity[0]\n",
        "\n",
        "\n",
        "def func(pct, allvals):\n",
        "    absolute = int(pct/100.*np.sum(allvals))\n",
        "    return \"{:.1f}%\\n({:d})\".format(pct, absolute)\n",
        "\n",
        "\n",
        "wedges, texts, autotexts = ax.pie(data, autopct=lambda pct: func(pct, data),\n",
        "                                  textprops=dict(color=\"w\"))\n",
        "\n",
        "ax.legend(wedges, card_families,\n",
        "          title=\"Card family\",\n",
        "          loc=\"center left\",\n",
        "          bbox_to_anchor=(1, 0, 0.5, 1))\n",
        "\n",
        "plt.setp(autotexts, size=8, weight=\"bold\")\n",
        "\n",
        "ax.set_title(\"Quantity of each card family in the dataset\")\n",
        "\n",
        "plt.show()\n"
      ],
      "execution_count": 5,
      "outputs": [
        {
          "output_type": "display_data",
          "data": {
            "image/png": "[encoded data removed]",
            "text/plain": [
              "<Figure size 432x216 with 1 Axes>"
            ]
          },
          "metadata": {
            "tags": []
          }
        }
      ]
    },
    {
      "cell_type": "markdown",
      "metadata": {
        "id": "lBRyynPeXUB_"
      },
      "source": [
        "Plotting the average credit limit for each card family in the dataset."
      ]
    },
    {
      "cell_type": "code",
      "metadata": {
        "colab": {
          "base_uri": "https://localhost:8080/",
          "height": 281
        },
        "id": "R8IXa6dQ4jef",
        "outputId": "5760b053-54a0-4ae4-ca71-a73c9aec92ea"
      },
      "source": [
        "# getting the average credit limit for each card family in the dataset\n",
        "avg_credit_limit = [(family, np.array(df_card['credit_limit'].loc\\\n",
        "                                      [df_card.card_family == family]).mean())\\\n",
        "                     for family in card_families]\n",
        "\n",
        "# sorting in place by credit_limit (descending order)\n",
        "avg_credit_limit.sort(key=lambda family_credit_limit: family_credit_limit[1], \\\n",
        "                      reverse=True)\n",
        "\n",
        "# unzipping avg_credit_limit\n",
        "avg_credit_limit = zip(*avg_credit_limit)\n",
        "avg_credit_limit = list(avg_credit_limit)\n",
        "\n",
        "# plotting the average credit limit\n",
        "plt.bar(avg_credit_limit[0], avg_credit_limit[1])\n",
        "plt.title(\"Average credit limit by card family\")\n",
        "plt.ylabel(\"Credit limit\")\n",
        "plt.show()"
      ],
      "execution_count": 6,
      "outputs": [
        {
          "output_type": "display_data",
          "data": {
            "image/png": "[encoded data removed]",
            "text/plain": [
              "<Figure size 432x288 with 1 Axes>"
            ]
          },
          "metadata": {
            "tags": [],
            "needs_background": "light"
          }
        }
      ]
    },
    {
      "cell_type": "code",
      "metadata": {
        "id": "l78sYDj3YoZd"
      },
      "source": [
        "# TODO"
      ],
      "execution_count": 7,
      "outputs": []
    },
    {
      "cell_type": "markdown",
      "metadata": {
        "id": "uouxHNxCYN2s"
      },
      "source": [
        "*For the transactions flagged as fraud, what are the ids of the transactions with the highest value?*"
      ]
    },
    {
      "cell_type": "code",
      "metadata": {
        "id": "48qzn3CbYRH0",
        "colab": {
          "base_uri": "https://localhost:8080/"
        },
        "outputId": "55255cf8-1c83-45dc-f2e8-a6488f81d359"
      },
      "source": [
        "# getting the transactions flagged as fraud (sorted in descending order by value)\n",
        "frauds = np.array(df_fraud['transaction_id'].loc[df_fraud['fraud_flag'] == True])\n",
        "df_fraud_transactions = df_transactions.loc[df_transactions['id'].isin(frauds)]\n",
        "df_fraud_transactions = df_fraud_transactions.sort_values(by='value', \\\n",
        "                                                          ascending=False)\n",
        "np.array(df_fraud_transactions['id'])"
      ],
      "execution_count": 8,
      "outputs": [
        {
          "output_type": "execute_result",
          "data": {
            "text/plain": [
              "array(['CTID20567160', 'CTID15034243', 'CTID95884307', 'CTID54759604',\n",
              "       'CTID55429304', 'CTID29469747', 'CTID76723439', 'CTID85085771',\n",
              "       'CTID25962688', 'CTID60575167', 'CTID42980186', 'CTID63762180',\n",
              "       'CTID31867370', 'CTID40881434', 'CTID41847490', 'CTID81479835',\n",
              "       'CTID89116114', 'CTID30763806', 'CTID32907279', 'CTID23350804',\n",
              "       'CTID69782227', 'CTID96772424', 'CTID26134025', 'CTID89260233',\n",
              "       'CTID12270763', 'CTID26238474', 'CTID53972836', 'CTID91108283',\n",
              "       'CTID84024131', 'CTID98722314', 'CTID89585938', 'CTID21246201',\n",
              "       'CTID39550827', 'CTID49517337', 'CTID55853142', 'CTID57707566',\n",
              "       'CTID42582298', 'CTID55936882', 'CTID16281374', 'CTID57357592',\n",
              "       'CTID95859840', 'CTID71795114', 'CTID22306254', 'CTID37742156',\n",
              "       'CTID13865418', 'CTID88342446', 'CTID97760025', 'CTID87470159',\n",
              "       'CTID70746134', 'CTID57993591', 'CTID60614984', 'CTID38789752',\n",
              "       'CTID68050021', 'CTID56680308', 'CTID84579664', 'CTID59571587',\n",
              "       'CTID38931999', 'CTID94511089', 'CTID85930060', 'CTID66191168',\n",
              "       'CTID70222721', 'CTID99066676', 'CTID45385078', 'CTID12041601',\n",
              "       'CTID97776833', 'CTID66265146', 'CTID51301522', 'CTID29266043',\n",
              "       'CTID56303514', 'CTID21253563', 'CTID44773525', 'CTID90938173',\n",
              "       'CTID68584964', 'CTID32892929', 'CTID80787923', 'CTID62499873',\n",
              "       'CTID70707358', 'CTID28195227', 'CTID36309710', 'CTID78032595',\n",
              "       'CTID34574410', 'CTID30494187', 'CTID33699337', 'CTID69594649',\n",
              "       'CTID20456246', 'CTID45648244', 'CTID44626561', 'CTID80436326',\n",
              "       'CTID63195033', 'CTID65786114', 'CTID54381577', 'CTID24913963',\n",
              "       'CTID49913734', 'CTID18338743', 'CTID73000031', 'CTID95135812',\n",
              "       'CTID81793385', 'CTID36997643', 'CTID73773088', 'CTID73429087',\n",
              "       'CTID50558449', 'CTID41668436', 'CTID99663510', 'CTID15730669',\n",
              "       'CTID92439353', 'CTID43014391', 'CTID56692687', 'CTID52594996',\n",
              "       'CTID26555772'], dtype=object)"
            ]
          },
          "metadata": {
            "tags": []
          },
          "execution_count": 8
        }
      ]
    },
    {
      "cell_type": "code",
      "metadata": {
        "id": "XsSSabVyVU-O"
      },
      "source": [
        "df_cards_involved_in_fraud = df_card.loc[df_card['card_number'].isin(df_fraud_transactions['card_number'])]"
      ],
      "execution_count": 9,
      "outputs": []
    },
    {
      "cell_type": "code",
      "metadata": {
        "id": "nsUYccHFqaUf"
      },
      "source": [
        "cards = np.unique(df_cards_involved_in_fraud['card_number'])\n",
        "\n",
        "higher = 0\n",
        "\n",
        "for card in cards:\n",
        "  transactions = df_fraud_transactions['value'].loc[df_fraud_transactions['card_number'] == card]\n",
        "  card_limit = df_cards_involved_in_fraud['credit_limit'].loc[df_cards_involved_in_fraud['card_number'] == card]\n",
        "  for transaction in transactions:\n",
        "    if transaction >= int(card_limit):\n",
        "      higher += 1"
      ],
      "execution_count": 10,
      "outputs": []
    },
    {
      "cell_type": "code",
      "metadata": {
        "id": "rlgnCt-XtH1A",
        "outputId": "2f634e4a-0ccd-4d29-9aba-031af6025b60",
        "colab": {
          "base_uri": "https://localhost:8080/",
          "height": 210
        }
      },
      "source": [
        "# Plotting a pie plot\n",
        "\n",
        "fig, ax = plt.subplots(figsize=(6, 3), subplot_kw=dict(aspect=\"equal\"))\n",
        "\n",
        "data = [higher, df_fraud_transactions['id'].count()-higher]\n",
        "card_families = [\"Higher than or equal\", \"Less than\"]\n",
        "\n",
        "\n",
        "def func(pct, allvals):\n",
        "    absolute = int(pct/100.*np.sum(allvals))\n",
        "    return \"{:.1f}%\\n({:d})\".format(pct, absolute)\n",
        "\n",
        "\n",
        "wedges, texts, autotexts = ax.pie(data, autopct=lambda pct: func(pct, data),\n",
        "                                  textprops=dict(color=\"w\"))\n",
        "\n",
        "ax.legend(wedges, card_families,\n",
        "          loc=\"center left\",\n",
        "          bbox_to_anchor=(1, 0, 0.5, 1))\n",
        "\n",
        "plt.setp(autotexts, size=8, weight=\"bold\")\n",
        "\n",
        "ax.set_title(\"Transactions flagged as fraud where its value was higher than or equal that card's credit_limit\")\n",
        "\n",
        "plt.show()"
      ],
      "execution_count": 11,
      "outputs": [
        {
          "output_type": "display_data",
          "data": {
            "image/png": "[encoded data removed]",
            "text/plain": [
              "<Figure size 432x216 with 1 Axes>"
            ]
          },
          "metadata": {
            "tags": []
          }
        }
      ]
    },
    {
      "cell_type": "code",
      "metadata": {
        "id": "ZFdtmxfCu1Vl",
        "outputId": "7a93c18f-9d6d-4d3c-d577-deba3242b21d",
        "colab": {
          "base_uri": "https://localhost:8080/",
          "height": 265
        }
      },
      "source": [
        "plt.yticks([i for i in range(0, 19, 3)])\n",
        "plt.hist(df_fraud_transactions['value'], rwidth=0.8)\n",
        "plt.show()"
      ],
      "execution_count": 12,
      "outputs": [
        {
          "output_type": "display_data",
          "data": {
            "image/png": "[encoded data removed]",
            "text/plain": [
              "<Figure size 432x288 with 1 Axes>"
            ]
          },
          "metadata": {
            "tags": [],
            "needs_background": "light"
          }
        }
      ]
    },
    {
      "cell_type": "code",
      "metadata": {
        "id": "Ltw-EFb5xNBo"
      },
      "source": [
        "customers = np.unique(df_cards_involved_in_fraud['customer_id'])\n",
        "\n",
        "customer_cards_involved_in_frauds = df_customers.loc[df_customers['id'].isin(customers)]"
      ],
      "execution_count": 13,
      "outputs": []
    },
    {
      "cell_type": "code",
      "metadata": {
        "id": "2M_b4rUEzmOP",
        "outputId": "151d1fbe-33b9-4968-a45f-c68ba5f8aad6",
        "colab": {
          "base_uri": "https://localhost:8080/"
        }
      },
      "source": [
        "avg_age_frauds = customer_cards_involved_in_frauds['age'].mean()\n",
        "print(\"Average age of customers whose cards where involved in fraud: {} years old.\".format(round(avg_age_frauds, 2)))"
      ],
      "execution_count": 14,
      "outputs": [
        {
          "output_type": "stream",
          "text": [
            "Average age of customers whose cards where involved in fraud: 34.66 years old.\n"
          ],
          "name": "stdout"
        }
      ]
    },
    {
      "cell_type": "code",
      "metadata": {
        "id": "_AIbVneL0sH1",
        "outputId": "79cf7e65-8af8-47b0-d026-17dcb2c2a9ef",
        "colab": {
          "base_uri": "https://localhost:8080/"
        }
      },
      "source": [
        "families = np.unique(customer_cards_involved_in_frauds['segment']) \n",
        "data = [(seg, customer_cards_involved_in_frauds['segment'].loc[customer_cards_involved_in_frauds['segment'] == seg].count()) for seg in families]\n",
        "data"
      ],
      "execution_count": 15,
      "outputs": [
        {
          "output_type": "execute_result",
          "data": {
            "text/plain": [
              "[('Diamond', 48), ('Gold', 25), ('Platinum', 24)]"
            ]
          },
          "metadata": {
            "tags": []
          },
          "execution_count": 15
        }
      ]
    },
    {
      "cell_type": "code",
      "metadata": {
        "id": "zcJLA1VQ2bL9",
        "outputId": "45b42813-be75-4e30-bacc-ea9a5a0dff30",
        "colab": {
          "base_uri": "https://localhost:8080/"
        }
      },
      "source": [
        "data = zip(*data)\n",
        "data1 = list(data)\n",
        "data1"
      ],
      "execution_count": 16,
      "outputs": [
        {
          "output_type": "execute_result",
          "data": {
            "text/plain": [
              "[('Diamond', 'Gold', 'Platinum'), (48, 25, 24)]"
            ]
          },
          "metadata": {
            "tags": []
          },
          "execution_count": 16
        }
      ]
    },
    {
      "cell_type": "code",
      "metadata": {
        "id": "dZqHL2nZ21EK",
        "outputId": "153b66d7-fa31-4357-be09-da25575010d2",
        "colab": {
          "base_uri": "https://localhost:8080/",
          "height": 210
        }
      },
      "source": [
        "# Plotting a pie plot\n",
        "\n",
        "fig, ax = plt.subplots(figsize=(6, 3), subplot_kw=dict(aspect=\"equal\"))\n",
        "\n",
        "data = data1[1]\n",
        "card_families = data1[0]\n",
        "\n",
        "\n",
        "def func(pct, allvals):\n",
        "    absolute = int(pct/100.*np.sum(allvals))\n",
        "    return \"{:.1f}%\\n({:d})\".format(pct, absolute)\n",
        "\n",
        "\n",
        "wedges, texts, autotexts = ax.pie(data, autopct=lambda pct: func(pct, data),\n",
        "                                  textprops=dict(color=\"w\"))\n",
        "\n",
        "ax.legend(wedges, card_families,\n",
        "          title=\"Segment\",\n",
        "          loc=\"center left\",\n",
        "          bbox_to_anchor=(1, 0, 0.5, 1))\n",
        "\n",
        "plt.setp(autotexts, size=8, weight=\"bold\")\n",
        "\n",
        "ax.set_title(\"Segment of the cards involved in frauds\")\n",
        "\n",
        "plt.show()"
      ],
      "execution_count": 17,
      "outputs": [
        {
          "output_type": "display_data",
          "data": {
            "image/png": "[encoded data removed]",
            "text/plain": [
              "<Figure size 432x216 with 1 Axes>"
            ]
          },
          "metadata": {
            "tags": []
          }
        }
      ]
    },
    {
      "cell_type": "code",
      "metadata": {
        "id": "cKaEqiXd4ML9",
        "outputId": "26a7972c-af65-45ca-d942-f2a6dfe317bd",
        "colab": {
          "base_uri": "https://localhost:8080/"
        }
      },
      "source": [
        "vg = np.unique(customer_cards_involved_in_frauds['vintage_group']) \n",
        "data = [(v, customer_cards_involved_in_frauds['vintage_group'].loc[customer_cards_involved_in_frauds['vintage_group'] == v].count()) for v in vg]\n",
        "data"
      ],
      "execution_count": 18,
      "outputs": [
        {
          "output_type": "execute_result",
          "data": {
            "text/plain": [
              "[('VG1', 48), ('VG2', 24), ('VG3', 25)]"
            ]
          },
          "metadata": {
            "tags": []
          },
          "execution_count": 18
        }
      ]
    },
    {
      "cell_type": "code",
      "metadata": {
        "id": "TeIPsocz4hhr",
        "outputId": "23a59594-f441-4732-8dfd-a07cd2aad3aa",
        "colab": {
          "base_uri": "https://localhost:8080/"
        }
      },
      "source": [
        "data = zip(*data)\n",
        "data1 = list(data)\n",
        "data1"
      ],
      "execution_count": 19,
      "outputs": [
        {
          "output_type": "execute_result",
          "data": {
            "text/plain": [
              "[('VG1', 'VG2', 'VG3'), (48, 24, 25)]"
            ]
          },
          "metadata": {
            "tags": []
          },
          "execution_count": 19
        }
      ]
    },
    {
      "cell_type": "code",
      "metadata": {
        "id": "3sLzhUnM4oit",
        "outputId": "406f026d-c314-4cbf-ce01-87f8c0bc7356",
        "colab": {
          "base_uri": "https://localhost:8080/",
          "height": 210
        }
      },
      "source": [
        "# Plotting a pie plot\n",
        "\n",
        "fig, ax = plt.subplots(figsize=(6, 3), subplot_kw=dict(aspect=\"equal\"))\n",
        "\n",
        "data = data1[1]\n",
        "card_families = data1[0]\n",
        "\n",
        "\n",
        "def func(pct, allvals):\n",
        "    absolute = int(pct/100.*np.sum(allvals))\n",
        "    return \"{:.1f}%\\n({:d})\".format(pct, absolute)\n",
        "\n",
        "\n",
        "wedges, texts, autotexts = ax.pie(data, autopct=lambda pct: func(pct, data),\n",
        "                                  textprops=dict(color=\"w\"))\n",
        "\n",
        "ax.legend(wedges, card_families,\n",
        "          title=\"vintage_group\",\n",
        "          loc=\"center left\",\n",
        "          bbox_to_anchor=(1, 0, 0.5, 1))\n",
        "\n",
        "plt.setp(autotexts, size=8, weight=\"bold\")\n",
        "\n",
        "ax.set_title(\"Vintage group of the cards involved in frauds\")\n",
        "\n",
        "plt.show()"
      ],
      "execution_count": 20,
      "outputs": [
        {
          "output_type": "display_data",
          "data": {
            "image/png": "[encoded data removed]",
            "text/plain": [
              "<Figure size 432x216 with 1 Axes>"
            ]
          },
          "metadata": {
            "tags": []
          }
        }
      ]
    },
    {
      "cell_type": "code",
      "metadata": {
        "id": "3QCfXSZRSZoY",
        "outputId": "79ff1a9f-91c4-4ee6-d24a-5dcec7827bda",
        "colab": {
          "base_uri": "https://localhost:8080/",
          "height": 424
        }
      },
      "source": [
        "df_transactions['is_fraud'] = [0 for i in range(df_transactions['id'].count())]\n",
        "df_transactions"
      ],
      "execution_count": 21,
      "outputs": [
        {
          "output_type": "execute_result",
          "data": {
            "text/html": [
              "<div>\n",
              "<style scoped>\n",
              "    .dataframe tbody tr th:only-of-type {\n",
              "        vertical-align: middle;\n",
              "    }\n",
              "\n",
              "    .dataframe tbody tr th {\n",
              "        vertical-align: top;\n",
              "    }\n",
              "\n",
              "    .dataframe thead th {\n",
              "        text-align: right;\n",
              "    }\n",
              "</style>\n",
              "<table border=\"1\" class=\"dataframe\">\n",
              "  <thead>\n",
              "    <tr style=\"text-align: right;\">\n",
              "      <th></th>\n",
              "      <th>id</th>\n",
              "      <th>card_number</th>\n",
              "      <th>transaction_date</th>\n",
              "      <th>value</th>\n",
              "      <th>segment</th>\n",
              "      <th>is_fraud</th>\n",
              "    </tr>\n",
              "  </thead>\n",
              "  <tbody>\n",
              "    <tr>\n",
              "      <th>0</th>\n",
              "      <td>CTID28830551</td>\n",
              "      <td>1629-9566-3285-2123</td>\n",
              "      <td>2016-04-24</td>\n",
              "      <td>23649</td>\n",
              "      <td>SEG25</td>\n",
              "      <td>0</td>\n",
              "    </tr>\n",
              "    <tr>\n",
              "      <th>1</th>\n",
              "      <td>CTID45504917</td>\n",
              "      <td>3697-6001-4909-5350</td>\n",
              "      <td>2016-02-11</td>\n",
              "      <td>26726</td>\n",
              "      <td>SEG16</td>\n",
              "      <td>0</td>\n",
              "    </tr>\n",
              "    <tr>\n",
              "      <th>2</th>\n",
              "      <td>CTID47312290</td>\n",
              "      <td>5864-4475-3659-1440</td>\n",
              "      <td>2016-11-01</td>\n",
              "      <td>22012</td>\n",
              "      <td>SEG14</td>\n",
              "      <td>0</td>\n",
              "    </tr>\n",
              "    <tr>\n",
              "      <th>3</th>\n",
              "      <td>CTID25637718</td>\n",
              "      <td>5991-4421-8476-3804</td>\n",
              "      <td>2016-01-28</td>\n",
              "      <td>37637</td>\n",
              "      <td>SEG17</td>\n",
              "      <td>0</td>\n",
              "    </tr>\n",
              "    <tr>\n",
              "      <th>4</th>\n",
              "      <td>CTID66743960</td>\n",
              "      <td>1893-8853-9900-8478</td>\n",
              "      <td>2016-03-17</td>\n",
              "      <td>5113</td>\n",
              "      <td>SEG14</td>\n",
              "      <td>0</td>\n",
              "    </tr>\n",
              "    <tr>\n",
              "      <th>...</th>\n",
              "      <td>...</td>\n",
              "      <td>...</td>\n",
              "      <td>...</td>\n",
              "      <td>...</td>\n",
              "      <td>...</td>\n",
              "      <td>...</td>\n",
              "    </tr>\n",
              "    <tr>\n",
              "      <th>9995</th>\n",
              "      <td>CTID25037573</td>\n",
              "      <td>9157-2802-8374-1145</td>\n",
              "      <td>2016-06-10</td>\n",
              "      <td>44280</td>\n",
              "      <td>SEG18</td>\n",
              "      <td>0</td>\n",
              "    </tr>\n",
              "    <tr>\n",
              "      <th>9996</th>\n",
              "      <td>CTID43832298</td>\n",
              "      <td>7416-4529-6690-5703</td>\n",
              "      <td>2016-05-23</td>\n",
              "      <td>27163</td>\n",
              "      <td>SEG12</td>\n",
              "      <td>0</td>\n",
              "    </tr>\n",
              "    <tr>\n",
              "      <th>9997</th>\n",
              "      <td>CTID56532072</td>\n",
              "      <td>6699-2639-4522-6219</td>\n",
              "      <td>2016-08-06</td>\n",
              "      <td>36424</td>\n",
              "      <td>SEG13</td>\n",
              "      <td>0</td>\n",
              "    </tr>\n",
              "    <tr>\n",
              "      <th>9998</th>\n",
              "      <td>CTID88101446</td>\n",
              "      <td>8341-5263-4582-7396</td>\n",
              "      <td>2016-10-10</td>\n",
              "      <td>8464</td>\n",
              "      <td>SEG14</td>\n",
              "      <td>0</td>\n",
              "    </tr>\n",
              "    <tr>\n",
              "      <th>9999</th>\n",
              "      <td>CTID64730271</td>\n",
              "      <td>1947-8602-1695-7503</td>\n",
              "      <td>2016-06-18</td>\n",
              "      <td>7606</td>\n",
              "      <td>SEG15</td>\n",
              "      <td>0</td>\n",
              "    </tr>\n",
              "  </tbody>\n",
              "</table>\n",
              "<p>10000 rows × 6 columns</p>\n",
              "</div>"
            ],
            "text/plain": [
              "                id          card_number  ... segment  is_fraud\n",
              "0     CTID28830551  1629-9566-3285-2123  ...   SEG25         0\n",
              "1     CTID45504917  3697-6001-4909-5350  ...   SEG16         0\n",
              "2     CTID47312290  5864-4475-3659-1440  ...   SEG14         0\n",
              "3     CTID25637718  5991-4421-8476-3804  ...   SEG17         0\n",
              "4     CTID66743960  1893-8853-9900-8478  ...   SEG14         0\n",
              "...            ...                  ...  ...     ...       ...\n",
              "9995  CTID25037573  9157-2802-8374-1145  ...   SEG18         0\n",
              "9996  CTID43832298  7416-4529-6690-5703  ...   SEG12         0\n",
              "9997  CTID56532072  6699-2639-4522-6219  ...   SEG13         0\n",
              "9998  CTID88101446  8341-5263-4582-7396  ...   SEG14         0\n",
              "9999  CTID64730271  1947-8602-1695-7503  ...   SEG15         0\n",
              "\n",
              "[10000 rows x 6 columns]"
            ]
          },
          "metadata": {
            "tags": []
          },
          "execution_count": 21
        }
      ]
    },
    {
      "cell_type": "code",
      "metadata": {
        "id": "3G0rlgAvS3gX",
        "outputId": "aca13fdf-c04c-45fa-f41a-312248f33f02",
        "colab": {
          "base_uri": "https://localhost:8080/"
        }
      },
      "source": [
        "frauds = np.array(df_fraud_transactions['id'])\n",
        "for fraud in frauds:\n",
        "  df_transactions['is_fraud'].loc[df_transactions['id'] == fraud] = 1"
      ],
      "execution_count": 22,
      "outputs": [
        {
          "output_type": "stream",
          "text": [
            "/usr/local/lib/python3.6/dist-packages/pandas/core/indexing.py:670: SettingWithCopyWarning: \n",
            "A value is trying to be set on a copy of a slice from a DataFrame\n",
            "\n",
            "See the caveats in the documentation: https://pandas.pydata.org/pandas-docs/stable/user_guide/indexing.html#returning-a-view-versus-a-copy\n",
            "  iloc._setitem_with_indexer(indexer, value)\n"
          ],
          "name": "stderr"
        }
      ]
    },
    {
      "cell_type": "code",
      "metadata": {
        "id": "ebjgEAvqhGfT",
        "outputId": "2ebef114-8997-45de-bde2-d991f7e32de4",
        "colab": {
          "base_uri": "https://localhost:8080/",
          "height": 424
        }
      },
      "source": [
        "segments = list(df_transactions['segment'])\n",
        "\n",
        "new_seg = [int(i[3:]) for i in segments]\n",
        "segments = new_seg\n",
        "\n",
        "df_transactions['segment'] = segments\n",
        "df_transactions"
      ],
      "execution_count": 23,
      "outputs": [
        {
          "output_type": "execute_result",
          "data": {
            "text/html": [
              "<div>\n",
              "<style scoped>\n",
              "    .dataframe tbody tr th:only-of-type {\n",
              "        vertical-align: middle;\n",
              "    }\n",
              "\n",
              "    .dataframe tbody tr th {\n",
              "        vertical-align: top;\n",
              "    }\n",
              "\n",
              "    .dataframe thead th {\n",
              "        text-align: right;\n",
              "    }\n",
              "</style>\n",
              "<table border=\"1\" class=\"dataframe\">\n",
              "  <thead>\n",
              "    <tr style=\"text-align: right;\">\n",
              "      <th></th>\n",
              "      <th>id</th>\n",
              "      <th>card_number</th>\n",
              "      <th>transaction_date</th>\n",
              "      <th>value</th>\n",
              "      <th>segment</th>\n",
              "      <th>is_fraud</th>\n",
              "    </tr>\n",
              "  </thead>\n",
              "  <tbody>\n",
              "    <tr>\n",
              "      <th>0</th>\n",
              "      <td>CTID28830551</td>\n",
              "      <td>1629-9566-3285-2123</td>\n",
              "      <td>2016-04-24</td>\n",
              "      <td>23649</td>\n",
              "      <td>25</td>\n",
              "      <td>0</td>\n",
              "    </tr>\n",
              "    <tr>\n",
              "      <th>1</th>\n",
              "      <td>CTID45504917</td>\n",
              "      <td>3697-6001-4909-5350</td>\n",
              "      <td>2016-02-11</td>\n",
              "      <td>26726</td>\n",
              "      <td>16</td>\n",
              "      <td>0</td>\n",
              "    </tr>\n",
              "    <tr>\n",
              "      <th>2</th>\n",
              "      <td>CTID47312290</td>\n",
              "      <td>5864-4475-3659-1440</td>\n",
              "      <td>2016-11-01</td>\n",
              "      <td>22012</td>\n",
              "      <td>14</td>\n",
              "      <td>0</td>\n",
              "    </tr>\n",
              "    <tr>\n",
              "      <th>3</th>\n",
              "      <td>CTID25637718</td>\n",
              "      <td>5991-4421-8476-3804</td>\n",
              "      <td>2016-01-28</td>\n",
              "      <td>37637</td>\n",
              "      <td>17</td>\n",
              "      <td>0</td>\n",
              "    </tr>\n",
              "    <tr>\n",
              "      <th>4</th>\n",
              "      <td>CTID66743960</td>\n",
              "      <td>1893-8853-9900-8478</td>\n",
              "      <td>2016-03-17</td>\n",
              "      <td>5113</td>\n",
              "      <td>14</td>\n",
              "      <td>0</td>\n",
              "    </tr>\n",
              "    <tr>\n",
              "      <th>...</th>\n",
              "      <td>...</td>\n",
              "      <td>...</td>\n",
              "      <td>...</td>\n",
              "      <td>...</td>\n",
              "      <td>...</td>\n",
              "      <td>...</td>\n",
              "    </tr>\n",
              "    <tr>\n",
              "      <th>9995</th>\n",
              "      <td>CTID25037573</td>\n",
              "      <td>9157-2802-8374-1145</td>\n",
              "      <td>2016-06-10</td>\n",
              "      <td>44280</td>\n",
              "      <td>18</td>\n",
              "      <td>0</td>\n",
              "    </tr>\n",
              "    <tr>\n",
              "      <th>9996</th>\n",
              "      <td>CTID43832298</td>\n",
              "      <td>7416-4529-6690-5703</td>\n",
              "      <td>2016-05-23</td>\n",
              "      <td>27163</td>\n",
              "      <td>12</td>\n",
              "      <td>0</td>\n",
              "    </tr>\n",
              "    <tr>\n",
              "      <th>9997</th>\n",
              "      <td>CTID56532072</td>\n",
              "      <td>6699-2639-4522-6219</td>\n",
              "      <td>2016-08-06</td>\n",
              "      <td>36424</td>\n",
              "      <td>13</td>\n",
              "      <td>0</td>\n",
              "    </tr>\n",
              "    <tr>\n",
              "      <th>9998</th>\n",
              "      <td>CTID88101446</td>\n",
              "      <td>8341-5263-4582-7396</td>\n",
              "      <td>2016-10-10</td>\n",
              "      <td>8464</td>\n",
              "      <td>14</td>\n",
              "      <td>0</td>\n",
              "    </tr>\n",
              "    <tr>\n",
              "      <th>9999</th>\n",
              "      <td>CTID64730271</td>\n",
              "      <td>1947-8602-1695-7503</td>\n",
              "      <td>2016-06-18</td>\n",
              "      <td>7606</td>\n",
              "      <td>15</td>\n",
              "      <td>0</td>\n",
              "    </tr>\n",
              "  </tbody>\n",
              "</table>\n",
              "<p>10000 rows × 6 columns</p>\n",
              "</div>"
            ],
            "text/plain": [
              "                id          card_number  ... segment  is_fraud\n",
              "0     CTID28830551  1629-9566-3285-2123  ...      25         0\n",
              "1     CTID45504917  3697-6001-4909-5350  ...      16         0\n",
              "2     CTID47312290  5864-4475-3659-1440  ...      14         0\n",
              "3     CTID25637718  5991-4421-8476-3804  ...      17         0\n",
              "4     CTID66743960  1893-8853-9900-8478  ...      14         0\n",
              "...            ...                  ...  ...     ...       ...\n",
              "9995  CTID25037573  9157-2802-8374-1145  ...      18         0\n",
              "9996  CTID43832298  7416-4529-6690-5703  ...      12         0\n",
              "9997  CTID56532072  6699-2639-4522-6219  ...      13         0\n",
              "9998  CTID88101446  8341-5263-4582-7396  ...      14         0\n",
              "9999  CTID64730271  1947-8602-1695-7503  ...      15         0\n",
              "\n",
              "[10000 rows x 6 columns]"
            ]
          },
          "metadata": {
            "tags": []
          },
          "execution_count": 23
        }
      ]
    }
  ]
}