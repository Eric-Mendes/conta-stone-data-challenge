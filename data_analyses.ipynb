{
  "nbformat": 4,
  "nbformat_minor": 0,
  "metadata": {
    "colab": {
      "name": "data-analyses.ipynb",
      "provenance": [],
      "authorship_tag": "ABX9TyN0m7D29G4yhsMJZfz1KJDL",
      "include_colab_link": true
    },
    "kernelspec": {
      "name": "python3",
      "display_name": "Python 3"
    }
  },
  "cells": [
    {
      "cell_type": "markdown",
      "metadata": {
        "id": "view-in-github",
        "colab_type": "text"
      },
      "source": [
        "<a href=\"https://colab.research.google.com/github/Eric-Mendes/conta-stone-data-challenge/blob/main/data_analyses.ipynb\" target=\"_parent\"><img src=\"https://colab.research.google.com/assets/colab-badge.svg\" alt=\"Open In Colab\"/></a>"
      ]
    },
    {
      "cell_type": "markdown",
      "metadata": {
        "id": "dXELahEhKd9P"
      },
      "source": [
        "\n",
        "<img src='https://seeklogo.com/images/S/stone-pagamentos-logo-781DFFF629-seeklogo.com.png'/> \n",
        "\n"
      ]
    },
    {
      "cell_type": "markdown",
      "metadata": {
        "id": "W0yYvzqUJy7K"
      },
      "source": [
        "Este notebook foi criado para responder às perguntas do [Conta Stone's Data Intern Challenge](https://gist.github.com/caiotaniguchi/8b5ee7dc75c8b6426222942ced90c4c1#file-dataset-customers-csv-L2469)."
      ]
    },
    {
      "cell_type": "code",
      "metadata": {
        "id": "ByAVcRaMrDiX"
      },
      "source": [
        "# Import das bibliotecas mais usadas em ciência de dados\n",
        "import pandas as pd\n",
        "import numpy as np\n",
        "from matplotlib import pyplot as plt"
      ],
      "execution_count": 1,
      "outputs": []
    },
    {
      "cell_type": "code",
      "metadata": {
        "id": "6v-nIZQuqWj6"
      },
      "source": [
        "# Criando DataFrames para cada dataset disponibilizado\n",
        "card_url = \"https://gist.githubusercontent.com/caiotaniguchi/\\\n",
        "8b5ee7dc75c8b6426222942ced90c4c1/raw/39ca0f8b442068aaffed35e26f0ce7f76faf1c63/\\\n",
        "dataset-cards.csv\"\n",
        "\n",
        "customers_url = \"https://gist.githubusercontent.com/caiotaniguchi/\\\n",
        "8b5ee7dc75c8b6426222942ced90c4c1/raw/39ca0f8b442068aaffed35e26f0ce7f76faf1c63/\\\n",
        "dataset-customers.csv\"\n",
        "\n",
        "fraud_url = \"https://gist.githubusercontent.com/caiotaniguchi/\\\n",
        "8b5ee7dc75c8b6426222942ced90c4c1/raw/39ca0f8b442068aaffed35e26f0ce7f76faf1c63\\\n",
        "/dataset-frauds.csv\"\n",
        "\n",
        "transactions_url = \"https://gist.githubusercontent.com/caiotaniguchi/\\\n",
        "8b5ee7dc75c8b6426222942ced90c4c1/raw/39ca0f8b442068aaffed35e26f0ce7f76faf1c63/\\\n",
        "dataset-transactions.csv\"\n",
        "\n",
        "\n",
        "df_card = pd.read_csv(card_url, sep=';')\n",
        "\n",
        "df_customers = pd.read_csv(customers_url, sep=';')\n",
        "\n",
        "df_fraud = pd.read_csv(fraud_url, sep=';')\n",
        "\n",
        "df_transactions = pd.read_csv(transactions_url, sep=';')"
      ],
      "execution_count": 2,
      "outputs": []
    },
    {
      "cell_type": "markdown",
      "metadata": {
        "id": "ngEHQ9lyOGrv"
      },
      "source": [
        "\n",
        "\n",
        "---\n",
        "\n"
      ]
    },
    {
      "cell_type": "markdown",
      "metadata": {
        "id": "M9r4ery6Llia"
      },
      "source": [
        "**Questões**"
      ]
    },
    {
      "cell_type": "markdown",
      "metadata": {
        "id": "TqiIrEpB1Pfh"
      },
      "source": [
        "\n",
        "\n",
        "1.   *Extract and analyze the data in order to answer the following questions. Provide a description and/or comments for each solution.*\n",
        "\n"
      ]
    },
    {
      "cell_type": "markdown",
      "metadata": {
        "id": "dQsHAjOAOnTb"
      },
      "source": [
        "- What is the average age of the customers in the database?"
      ]
    },
    {
      "cell_type": "code",
      "metadata": {
        "colab": {
          "base_uri": "https://localhost:8080/"
        },
        "id": "EcU_VrIx1kih",
        "outputId": "c9d2fb65-6fd6-44d9-a061-ed2b38672bdb"
      },
      "source": [
        "# pegando a coluna age (idade)\n",
        "age = df_customers['age']\n",
        "\n",
        "# pegando a média de idades\n",
        "avg_age = age.mean()\n",
        "\n",
        "# printando a idade média arredondada com duas casas depois da vírgula\n",
        "print(\"The average age of the customers in the database is {} years old. \\\n",
        "(Approximately {} years and {} days old.)\"\\\n",
        "      .format(round(avg_age, 2), round(avg_age), round((avg_age-int(avg_age))*365)))"
      ],
      "execution_count": 3,
      "outputs": [
        {
          "output_type": "stream",
          "text": [
            "The average age of the customers in the database is 35.06 years old. (Approximately 35 years and 22 days old.)\n"
          ],
          "name": "stdout"
        }
      ]
    },
    {
      "cell_type": "markdown",
      "metadata": {
        "id": "pMgSjlWaOJwr"
      },
      "source": [
        "\n",
        "\n",
        "---\n",
        "\n"
      ]
    },
    {
      "cell_type": "markdown",
      "metadata": {
        "id": "IkelZEYwBJIC"
      },
      "source": [
        "- How is the card_family ranked based on the credit_limit given to each card?"
      ]
    },
    {
      "cell_type": "markdown",
      "metadata": {
        "id": "B93CGTNhVNEq"
      },
      "source": [
        "Inicialmente pensei em olhar para a média de limite de crédito, entretanto olhei primeiro para a quantidade de cada card_family no dataset, pois uma pequena quantidade de uma determinada card_family poderia acarretar uma grande média de credit_limit, o que enviesaria a análise."
      ]
    },
    {
      "cell_type": "code",
      "metadata": {
        "id": "wZDAOAz__hEa"
      },
      "source": [
        "# Pegando todas as distintas card_families no dataset\n",
        "card_families = np.unique(df_card['card_family'])\n",
        "\n",
        "# Pegando a quantidade de cada card_family no dataset\n",
        "family_quantity = [(family, df_card['card_family'].loc\\\n",
        "                    [df_card.card_family == family]\\\n",
        "                   .count()) for family in card_families]\n",
        "\n",
        "\"\"\"\n",
        "Ordenando family_quantity na ordem decrescente, baseado na quantidade daquela\n",
        "card_family\n",
        "\"\"\"\n",
        "family_quantity.sort(key=lambda qty: qty[1], reverse=True)\n",
        "\n",
        "# Separando a card_family de sua quantidade\n",
        "family_quantity = zip(*family_quantity)\n",
        "family_quantity = list(family_quantity)"
      ],
      "execution_count": 4,
      "outputs": []
    },
    {
      "cell_type": "code",
      "metadata": {
        "id": "9wDX5dwSThET",
        "colab": {
          "base_uri": "https://localhost:8080/",
          "height": 210
        },
        "outputId": "8d5ec09a-16af-4b20-9576-9b5a7b3f489e"
      },
      "source": [
        "\"\"\"\n",
        "Plotando um gráfico de setores com os resultados \n",
        "sobre as quantidades de card_family\n",
        "\"\"\"\n",
        "\n",
        "fig, ax = plt.subplots(figsize=(6, 3), subplot_kw=dict(aspect=\"equal\"))\n",
        "\n",
        "data = family_quantity[1]\n",
        "card_families = family_quantity[0]\n",
        "\n",
        "\n",
        "def func(pct, allvals):\n",
        "    absolute = int(pct/100.*np.sum(allvals))\n",
        "    return \"{:.1f}%\\n({:d})\".format(pct, absolute)\n",
        "\n",
        "\n",
        "wedges, texts, autotexts = ax.pie(data, autopct=lambda pct: func(pct, data),\n",
        "                                  textprops=dict(color=\"w\"))\n",
        "\n",
        "ax.legend(wedges, card_families,\n",
        "          title=\"Card family\",\n",
        "          loc=\"center left\",\n",
        "          bbox_to_anchor=(1, 0, 0.5, 1))\n",
        "\n",
        "plt.setp(autotexts, size=8, weight=\"bold\")\n",
        "\n",
        "ax.set_title(\"Quantity of each card family in the dataset\")\n",
        "\n",
        "plt.show()"
      ],
      "execution_count": 5,
      "outputs": [
        {
          "output_type": "display_data",
          "data": {
            "image/png": "[encoded data removed]",
            "text/plain": [
              "<Figure size 432x216 with 1 Axes>"
            ]
          },
          "metadata": {
            "tags": []
          }
        }
      ]
    },
    {
      "cell_type": "markdown",
      "metadata": {
        "id": "lBRyynPeXUB_"
      },
      "source": [
        "Plotando um gráfico de barras para visualizar a média de limite de crédito (credit_limit) para cada card_family"
      ]
    },
    {
      "cell_type": "code",
      "metadata": {
        "colab": {
          "base_uri": "https://localhost:8080/",
          "height": 281
        },
        "id": "R8IXa6dQ4jef",
        "outputId": "b581ae34-b573-489b-b36b-d7aa1379ed62"
      },
      "source": [
        "# Pegando a média de credit_limit para cada card_family\n",
        "avg_credit_limit = [(family, np.array(df_card['credit_limit'].loc\\\n",
        "                                      [df_card.card_family == family]).mean())\\\n",
        "                     for family in card_families]\n",
        "\n",
        "# Ordenando avg_credit_limit em ordem descrescente pela média daquela card_family\n",
        "avg_credit_limit.sort(key=lambda family_credit_limit: family_credit_limit[1], \\\n",
        "                      reverse=True)\n",
        "\n",
        "# Separando a card_family de sua média\n",
        "avg_credit_limit = zip(*avg_credit_limit)\n",
        "avg_credit_limit = list(avg_credit_limit)\n",
        "\n",
        "# Plotando o gráfico\n",
        "plt.bar(avg_credit_limit[0], avg_credit_limit[1], color=['tab:blue', 'tab:green', 'tab:orange'])\n",
        "plt.title(\"Average credit limit by card family\")\n",
        "plt.ylabel(\"Credit limit\")\n",
        "plt.show()"
      ],
      "execution_count": 6,
      "outputs": [
        {
          "output_type": "display_data",
          "data": {
            "image/png": "[encoded data removed]",
            "text/plain": [
              "<Figure size 432x288 with 1 Axes>"
            ]
          },
          "metadata": {
            "tags": [],
            "needs_background": "light"
          }
        }
      ]
    },
    {
      "cell_type": "markdown",
      "metadata": {
        "id": "WDQvk9ZMT5s2"
      },
      "source": [
        "Como vimos, a quantidade de cada card_family é bastante diferente. Portanto o gráfico de média acima pode não ser um bom indicador sobre a relação entre card_family e credit_limit."
      ]
    },
    {
      "cell_type": "markdown",
      "metadata": {
        "id": "Te_6Y3jkYq1_"
      },
      "source": [
        "*Como resolver isto?*\n",
        "\n",
        "Sugestões:\n",
        "- Balancear os dados (fazer com que a quantidade das 3 card_family seja a mesma);\n",
        "- Procurar correlação entre card_family e credit_limit de outra maneira que não seja pela média."
      ]
    },
    {
      "cell_type": "code",
      "metadata": {
        "id": "l78sYDj3YoZd"
      },
      "source": [
        "# TODO"
      ],
      "execution_count": 7,
      "outputs": []
    },
    {
      "cell_type": "markdown",
      "metadata": {
        "id": "jMM4zbY4OMo3"
      },
      "source": [
        "\n",
        "\n",
        "---\n",
        "\n"
      ]
    },
    {
      "cell_type": "markdown",
      "metadata": {
        "id": "uouxHNxCYN2s"
      },
      "source": [
        " - For the transactions flagged as fraud, what are the ids of the transactions with the highest value?"
      ]
    },
    {
      "cell_type": "code",
      "metadata": {
        "id": "48qzn3CbYRH0",
        "colab": {
          "base_uri": "https://localhost:8080/"
        },
        "outputId": "22d898c4-2f31-480f-b14f-e058ea23d5cc"
      },
      "source": [
        "# Pegando o id das transações fraudulentas (organizados do maior value para o menor)\n",
        "frauds = np.array(df_fraud['transaction_id'].loc[df_fraud['fraud_flag'] == True])\n",
        "df_fraud_transactions = df_transactions.loc[df_transactions['id'].isin(frauds)]\n",
        "df_fraud_transactions = df_fraud_transactions.sort_values(by='value', ascending=False)\n",
        "for i in range(1, len(list(df_fraud_transactions['id']))+1):\n",
        "  print(\"id {}: {}\".format(i, list(df_fraud_transactions['id'])[i-1]))"
      ],
      "execution_count": 11,
      "outputs": [
        {
          "output_type": "stream",
          "text": [
            "id 1: CTID20567160\n",
            "id 2: CTID15034243\n",
            "id 3: CTID95884307\n",
            "id 4: CTID54759604\n",
            "id 5: CTID55429304\n",
            "id 6: CTID29469747\n",
            "id 7: CTID76723439\n",
            "id 8: CTID85085771\n",
            "id 9: CTID25962688\n",
            "id 10: CTID60575167\n",
            "id 11: CTID42980186\n",
            "id 12: CTID63762180\n",
            "id 13: CTID31867370\n",
            "id 14: CTID40881434\n",
            "id 15: CTID41847490\n",
            "id 16: CTID81479835\n",
            "id 17: CTID89116114\n",
            "id 18: CTID30763806\n",
            "id 19: CTID32907279\n",
            "id 20: CTID23350804\n",
            "id 21: CTID69782227\n",
            "id 22: CTID96772424\n",
            "id 23: CTID26134025\n",
            "id 24: CTID89260233\n",
            "id 25: CTID12270763\n",
            "id 26: CTID26238474\n",
            "id 27: CTID53972836\n",
            "id 28: CTID91108283\n",
            "id 29: CTID84024131\n",
            "id 30: CTID98722314\n",
            "id 31: CTID89585938\n",
            "id 32: CTID21246201\n",
            "id 33: CTID39550827\n",
            "id 34: CTID49517337\n",
            "id 35: CTID55853142\n",
            "id 36: CTID57707566\n",
            "id 37: CTID42582298\n",
            "id 38: CTID55936882\n",
            "id 39: CTID16281374\n",
            "id 40: CTID57357592\n",
            "id 41: CTID95859840\n",
            "id 42: CTID71795114\n",
            "id 43: CTID22306254\n",
            "id 44: CTID37742156\n",
            "id 45: CTID13865418\n",
            "id 46: CTID88342446\n",
            "id 47: CTID97760025\n",
            "id 48: CTID87470159\n",
            "id 49: CTID70746134\n",
            "id 50: CTID57993591\n",
            "id 51: CTID60614984\n",
            "id 52: CTID38789752\n",
            "id 53: CTID68050021\n",
            "id 54: CTID56680308\n",
            "id 55: CTID84579664\n",
            "id 56: CTID59571587\n",
            "id 57: CTID38931999\n",
            "id 58: CTID94511089\n",
            "id 59: CTID85930060\n",
            "id 60: CTID66191168\n",
            "id 61: CTID70222721\n",
            "id 62: CTID99066676\n",
            "id 63: CTID45385078\n",
            "id 64: CTID12041601\n",
            "id 65: CTID97776833\n",
            "id 66: CTID66265146\n",
            "id 67: CTID51301522\n",
            "id 68: CTID29266043\n",
            "id 69: CTID56303514\n",
            "id 70: CTID21253563\n",
            "id 71: CTID44773525\n",
            "id 72: CTID90938173\n",
            "id 73: CTID68584964\n",
            "id 74: CTID32892929\n",
            "id 75: CTID80787923\n",
            "id 76: CTID62499873\n",
            "id 77: CTID70707358\n",
            "id 78: CTID28195227\n",
            "id 79: CTID36309710\n",
            "id 80: CTID78032595\n",
            "id 81: CTID34574410\n",
            "id 82: CTID30494187\n",
            "id 83: CTID33699337\n",
            "id 84: CTID69594649\n",
            "id 85: CTID20456246\n",
            "id 86: CTID45648244\n",
            "id 87: CTID44626561\n",
            "id 88: CTID80436326\n",
            "id 89: CTID63195033\n",
            "id 90: CTID65786114\n",
            "id 91: CTID54381577\n",
            "id 92: CTID24913963\n",
            "id 93: CTID49913734\n",
            "id 94: CTID18338743\n",
            "id 95: CTID73000031\n",
            "id 96: CTID95135812\n",
            "id 97: CTID81793385\n",
            "id 98: CTID36997643\n",
            "id 99: CTID73773088\n",
            "id 100: CTID73429087\n",
            "id 101: CTID50558449\n",
            "id 102: CTID41668436\n",
            "id 103: CTID99663510\n",
            "id 104: CTID15730669\n",
            "id 105: CTID92439353\n",
            "id 106: CTID43014391\n",
            "id 107: CTID56692687\n",
            "id 108: CTID52594996\n",
            "id 109: CTID26555772\n"
          ],
          "name": "stdout"
        }
      ]
    },
    {
      "cell_type": "markdown",
      "metadata": {
        "id": "Pmi0BO5hOSKg"
      },
      "source": [
        "\n",
        "\n",
        "---\n",
        "\n"
      ]
    },
    {
      "cell_type": "markdown",
      "metadata": {
        "id": "l6tIL94q2mJS"
      },
      "source": [
        "2. *Analysis:*"
      ]
    },
    {
      "cell_type": "markdown",
      "metadata": {
        "id": "7ptgwGOs2zSB"
      },
      "source": [
        "- Analyze whether or not the fraudulent transactions are somehow associated to other features in the dataset. Explain your results."
      ]
    },
    {
      "cell_type": "markdown",
      "metadata": {
        "id": "WzrhdYvd3gfM"
      },
      "source": [
        "Primeiro eu vou analisar alguns dados sobre as transações fraudulentas."
      ]
    },
    {
      "cell_type": "code",
      "metadata": {
        "id": "XsSSabVyVU-O"
      },
      "source": [
        "# DataFrame com os dados dos cartões que já estiveram envolvidos em fraude\n",
        "df_cards_involved_in_fraud = df_card.loc[df_card['card_number'].isin(df_fraud_transactions['card_number'])]"
      ],
      "execution_count": null,
      "outputs": []
    },
    {
      "cell_type": "code",
      "metadata": {
        "id": "nsUYccHFqaUf"
      },
      "source": [
        "# Pegando em quantas transações fraudulentas o valor passou ou foi igual ao limite de crédito do cartão em questão\n",
        "cards = np.unique(df_cards_involved_in_fraud['card_number'])\n",
        "\n",
        "higher = 0\n",
        "\n",
        "for card in cards:\n",
        "  transactions = df_fraud_transactions['value'].loc[df_fraud_transactions['card_number'] == card]\n",
        "  card_limit = df_cards_involved_in_fraud['credit_limit'].loc[df_cards_involved_in_fraud['card_number'] == card]\n",
        "  for transaction in transactions:\n",
        "    if transaction >= int(card_limit):\n",
        "      higher += 1"
      ],
      "execution_count": null,
      "outputs": []
    },
    {
      "cell_type": "code",
      "metadata": {
        "id": "rlgnCt-XtH1A"
      },
      "source": [
        "# Plotando um gráfico de setores mostrando os resultados da última célula\n",
        "\n",
        "fig, ax = plt.subplots(figsize=(6, 3), subplot_kw=dict(aspect=\"equal\"))\n",
        "\n",
        "data = [higher, df_fraud_transactions['id'].count()-higher]\n",
        "card_families = [\"Higher than or equal\", \"Less than\"]\n",
        "\n",
        "\n",
        "def func(pct, allvals):\n",
        "    absolute = int(pct/100.*np.sum(allvals))\n",
        "    return \"{:.1f}%\\n({:d})\".format(pct, absolute)\n",
        "\n",
        "\n",
        "wedges, texts, autotexts = ax.pie(data, autopct=lambda pct: func(pct, data),\n",
        "                                  textprops=dict(color=\"w\"))\n",
        "\n",
        "ax.legend(wedges, card_families,\n",
        "          loc=\"center left\",\n",
        "          bbox_to_anchor=(1, 0, 0.5, 1))\n",
        "\n",
        "plt.setp(autotexts, size=8, weight=\"bold\")\n",
        "\n",
        "ax.set_title(\"Transactions flagged as fraud where its value was higher than or equal that card's credit_limit\")\n",
        "\n",
        "plt.show()"
      ],
      "execution_count": null,
      "outputs": []
    },
    {
      "cell_type": "code",
      "metadata": {
        "id": "Ltw-EFb5xNBo"
      },
      "source": [
        "customers = np.unique(df_cards_involved_in_fraud['customer_id'])\n",
        "\n",
        "customer_cards_involved_in_frauds = df_customers.loc[df_customers['id'].isin(customers)]"
      ],
      "execution_count": null,
      "outputs": []
    },
    {
      "cell_type": "code",
      "metadata": {
        "id": "2M_b4rUEzmOP"
      },
      "source": [
        "avg_age_frauds = customer_cards_involved_in_frauds['age'].mean()\n",
        "print(\"Average age of customers whose cards where involved in fraud: {} years old.\".format(round(avg_age_frauds, 2)))"
      ],
      "execution_count": null,
      "outputs": []
    },
    {
      "cell_type": "code",
      "metadata": {
        "id": "_AIbVneL0sH1"
      },
      "source": [
        "families = np.unique(customer_cards_involved_in_frauds['segment']) \n",
        "data = [(seg, customer_cards_involved_in_frauds['segment'].loc[customer_cards_involved_in_frauds['segment'] == seg].count()) for seg in families]\n",
        "data"
      ],
      "execution_count": null,
      "outputs": []
    },
    {
      "cell_type": "code",
      "metadata": {
        "id": "zcJLA1VQ2bL9"
      },
      "source": [
        "data = zip(*data)\n",
        "data1 = list(data)\n",
        "data1"
      ],
      "execution_count": null,
      "outputs": []
    },
    {
      "cell_type": "code",
      "metadata": {
        "id": "dZqHL2nZ21EK"
      },
      "source": [
        "# Plotting a pie plot\n",
        "\n",
        "fig, ax = plt.subplots(figsize=(6, 3), subplot_kw=dict(aspect=\"equal\"))\n",
        "\n",
        "data = data1[1]\n",
        "card_families = data1[0]\n",
        "\n",
        "\n",
        "def func(pct, allvals):\n",
        "    absolute = int(pct/100.*np.sum(allvals))\n",
        "    return \"{:.1f}%\\n({:d})\".format(pct, absolute)\n",
        "\n",
        "\n",
        "wedges, texts, autotexts = ax.pie(data, autopct=lambda pct: func(pct, data),\n",
        "                                  textprops=dict(color=\"w\"))\n",
        "\n",
        "ax.legend(wedges, card_families,\n",
        "          title=\"Segment\",\n",
        "          loc=\"center left\",\n",
        "          bbox_to_anchor=(1, 0, 0.5, 1))\n",
        "\n",
        "plt.setp(autotexts, size=8, weight=\"bold\")\n",
        "\n",
        "ax.set_title(\"Segment of the customers involved in frauds\")\n",
        "\n",
        "plt.show()"
      ],
      "execution_count": null,
      "outputs": []
    },
    {
      "cell_type": "code",
      "metadata": {
        "id": "cKaEqiXd4ML9"
      },
      "source": [
        "vg = np.unique(customer_cards_involved_in_frauds['vintage_group']) \n",
        "data = [(v, customer_cards_involved_in_frauds['vintage_group'].loc[customer_cards_involved_in_frauds['vintage_group'] == v].count()) for v in vg]\n",
        "data"
      ],
      "execution_count": null,
      "outputs": []
    },
    {
      "cell_type": "code",
      "metadata": {
        "id": "TeIPsocz4hhr"
      },
      "source": [
        "data = zip(*data)\n",
        "data1 = list(data)\n",
        "data1"
      ],
      "execution_count": null,
      "outputs": []
    },
    {
      "cell_type": "code",
      "metadata": {
        "id": "3sLzhUnM4oit"
      },
      "source": [
        "# Plotting a pie plot\n",
        "\n",
        "fig, ax = plt.subplots(figsize=(6, 3), subplot_kw=dict(aspect=\"equal\"))\n",
        "\n",
        "data = data1[1]\n",
        "card_families = data1[0]\n",
        "\n",
        "\n",
        "def func(pct, allvals):\n",
        "    absolute = int(pct/100.*np.sum(allvals))\n",
        "    return \"{:.1f}%\\n({:d})\".format(pct, absolute)\n",
        "\n",
        "\n",
        "wedges, texts, autotexts = ax.pie(data, autopct=lambda pct: func(pct, data),\n",
        "                                  textprops=dict(color=\"w\"))\n",
        "\n",
        "ax.legend(wedges, card_families,\n",
        "          title=\"vintage_group\",\n",
        "          loc=\"center left\",\n",
        "          bbox_to_anchor=(1, 0, 0.5, 1))\n",
        "\n",
        "plt.setp(autotexts, size=8, weight=\"bold\")\n",
        "\n",
        "ax.set_title(\"Vintage group of the cards involved in frauds\")\n",
        "\n",
        "plt.show()"
      ],
      "execution_count": null,
      "outputs": []
    },
    {
      "cell_type": "code",
      "metadata": {
        "id": "3QCfXSZRSZoY"
      },
      "source": [
        "df_transactions['is_fraud'] = [0 for i in range(df_transactions['id'].count())]\n",
        "df_transactions"
      ],
      "execution_count": null,
      "outputs": []
    },
    {
      "cell_type": "code",
      "metadata": {
        "id": "3G0rlgAvS3gX"
      },
      "source": [
        "frauds = np.array(df_fraud_transactions['id'])\n",
        "for fraud in frauds:\n",
        "  df_transactions['is_fraud'].loc[df_transactions['id'] == fraud] = 1"
      ],
      "execution_count": null,
      "outputs": []
    },
    {
      "cell_type": "code",
      "metadata": {
        "id": "pO3-XOdZBpS-"
      },
      "source": [
        "df_transactions['segment'] = list(map(lambda x: int(x[3:]), list(df_transactions['segment'])))\n",
        "df_transactions.head()"
      ],
      "execution_count": null,
      "outputs": []
    },
    {
      "cell_type": "code",
      "metadata": {
        "id": "1PWLQ4PVvLXa"
      },
      "source": [
        "import datetime\n",
        "\n",
        "df_transactions['transaction_date'] = list(\n",
        "    map(\n",
        "        lambda x: datetime.datetime(int(x.split('-')[0]), int(x.split('-')[1]), int(x.split('-')[2])), \n",
        "        list(df_transactions['transaction_date'])\n",
        "        )\n",
        "    )"
      ],
      "execution_count": null,
      "outputs": []
    },
    {
      "cell_type": "code",
      "metadata": {
        "id": "ekUSgxgOw4aq"
      },
      "source": [
        "df_transactions = df_transactions.sort_values(by='transaction_date')"
      ],
      "execution_count": null,
      "outputs": []
    },
    {
      "cell_type": "code",
      "metadata": {
        "id": "pfpLZ9v5-iYb"
      },
      "source": [
        "segments = {\n",
        "    'Diamond': 1,\n",
        "    'Gold': 2,\n",
        "    'Platinum': 3\n",
        "}\n",
        "df_customers['segment'] = list(map(lambda x: segments[x], list(df_customers['segment'])))\n",
        "df_customers.head()"
      ],
      "execution_count": null,
      "outputs": []
    },
    {
      "cell_type": "code",
      "metadata": {
        "id": "KxDjCLe3_GDm"
      },
      "source": [
        "df_customers['vintage_group'] = list(map(lambda x: int(x[2:]), list(df_customers['vintage_group'])))\n",
        "df_customers.head()"
      ],
      "execution_count": null,
      "outputs": []
    },
    {
      "cell_type": "code",
      "metadata": {
        "id": "p7K2rS-2A_qf"
      },
      "source": [
        "df_customers.corr()"
      ],
      "execution_count": null,
      "outputs": []
    },
    {
      "cell_type": "code",
      "metadata": {
        "id": "CtA9xmYMy-9s"
      },
      "source": [
        "card_family = {\n",
        "    'Premium': 1,\n",
        "    'Gold': 2,\n",
        "    'Platinum': 3\n",
        "}\n",
        "df_card['card_family'] = list(map(lambda x: card_family[x], list(df_card['card_family'])))"
      ],
      "execution_count": null,
      "outputs": []
    },
    {
      "cell_type": "code",
      "metadata": {
        "id": "YVpM50i6zolt"
      },
      "source": [
        "df_card['customer_id'] = list(map(lambda x: int(x[2:]), list(df_card['customer_id'])))"
      ],
      "execution_count": null,
      "outputs": []
    }
  ]
}